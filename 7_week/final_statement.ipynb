{
 "cells": [
  {
   "cell_type": "code",
   "execution_count": 1,
   "metadata": {},
   "outputs": [],
   "source": [
    "import pandas as pd\n",
    "import numpy as np\n",
    "from sklearn.model_selection import train_test_split, KFold, cross_val_score, GridSearchCV\n",
    "from sklearn.linear_model import LogisticRegression\n",
    "from sklearn.feature_extraction.text import CountVectorizer\n",
    "from sklearn.ensemble import GradientBoostingClassifier\n",
    "from sklearn.pipeline import make_pipeline, Pipeline\n",
    "from sklearn.metrics import roc_auc_score\n",
    "from sklearn.preprocessing import StandardScaler, MaxAbsScaler, MinMaxScaler\n",
    "import matplotlib.pyplot as plt\n",
    "from scipy.sparse import hstack\n",
    "import warnings\n",
    "%matplotlib  inline\n",
    "warnings.simplefilter('ignore')\n",
    "\n"
   ]
  },
  {
   "cell_type": "markdown",
   "metadata": {},
   "source": [
    "## Подход #1: градиентный бустинг \"в лоб\"\n",
    "\n",
    "В отчете по данному этапу необходимо ответить на следующие вопросы:\n",
    "1. Какие признаки имеют пропуски среди своих значений? Что могут означать пропуски в этих признаках (ответьте на этот вопрос для двух любых признаков)?\n",
    "2. Как называется столбец, содержащий целевую переменную?\n",
    "3. Как долго проводилась кросс-валидация для градиентного бустинга с 30 деревьями? Инструкцию по измерению времени можно найти ниже по тексту. Какое качество при этом получилось? Напомним, что в данном задании мы используем метрику качества AUC-ROC.\n",
    "4. Имеет ли смысл использовать больше 30 деревьев в градиентном бустинге? Что бы вы предложили делать, чтобы ускорить его обучение при увеличении количества деревьев?"
   ]
  },
  {
   "cell_type": "markdown",
   "metadata": {},
   "source": [
    "###  Первый взгляд на датасет\n",
    "Загрузим датасет и посмотрим на признаки. \n",
    "Загружаем файл с данными о матчах..."
   ]
  },
  {
   "cell_type": "code",
   "execution_count": 2,
   "metadata": {},
   "outputs": [],
   "source": [
    "Xcsv = pd.read_csv('features.csv', index_col='match_id')\n",
    "Xcsv_test = pd.read_csv('features_test.csv', index_col='match_id')"
   ]
  },
  {
   "cell_type": "markdown",
   "metadata": {},
   "source": [
    "... и проверяем какие признаки содержат пропущенные данные"
   ]
  },
  {
   "cell_type": "code",
   "execution_count": 3,
   "metadata": {},
   "outputs": [
    {
     "name": "stdout",
     "output_type": "stream",
     "text": [
      "Признак 'first_blood_time' имеет 19553 пропущенных значений - ( 20.11 % )\n",
      "Признак 'first_blood_team' имеет 19553 пропущенных значений - ( 20.11 % )\n",
      "Признак 'first_blood_player1' имеет 19553 пропущенных значений - ( 20.11 % )\n",
      "Признак 'first_blood_player2' имеет 43987 пропущенных значений - ( 45.24 % )\n",
      "Признак 'radiant_bottle_time' имеет 15691 пропущенных значений - ( 16.14 % )\n",
      "Признак 'radiant_courier_time' имеет 692 пропущенных значений - ( 0.71 % )\n",
      "Признак 'radiant_flying_courier_time' имеет 27479 пропущенных значений - ( 28.26 % )\n",
      "Признак 'radiant_first_ward_time' имеет 1836 пропущенных значений - ( 1.89 % )\n",
      "Признак 'dire_bottle_time' имеет 16143 пропущенных значений - ( 16.60 % )\n",
      "Признак 'dire_courier_time' имеет 676 пропущенных значений - ( 0.70 % )\n",
      "Признак 'dire_flying_courier_time' имеет 26098 пропущенных значений - ( 26.84 % )\n",
      "Признак 'dire_first_ward_time' имеет 1826 пропущенных значений - ( 1.88 % )\n"
     ]
    }
   ],
   "source": [
    "rows = Xcsv.shape[0]\n",
    "for col in Xcsv.columns:\n",
    "    if Xcsv[col].count() < rows:\n",
    "        skip = rows - Xcsv[col].count()\n",
    "        print(f'Признак \\'{col}\\' имеет {skip} пропущенных значений - ({100 * skip / rows: 0.2f} % )')\n",
    "        "
   ]
  },
  {
   "cell_type": "markdown",
   "metadata": {},
   "source": [
    "Признаки с постфиксом '_time' относятся к временным меткам и означают, что за первые пять минут матча соответствующее событие не произошло. В задании рекомендуется заменить такие значения на 0, но такая рекомендация в данном случае не вполне подходит. Правильнее было бы заменить эти значения, на время превосходящее или равное пяти минутам. \n",
    "Признаки first_blood_player1 и first_blood_player2 указывают на номер игрока в текущем матче. Пропущенные значения у них означают, что за первые пять минут соответстующее им событие не произошло. Следует отметить, что признак first_blood_player2 имеет более 40 % пропущенных значений и хорошего прогноза по нему не построить. Предлагается исключить его из тестовой выборки.\n",
    "мазаменим на медианные значения по признаку. Затем проверим, что у нас больше не осталось пропущенных данных.\n",
    "\n",
    "**Целевая переменная содержится в столбце 'radiant_win'.** Создадим из него объект ответов Y и удалим из обучающей выборки его, а также признаки, связанные с итогами матча."
   ]
  },
  {
   "cell_type": "code",
   "execution_count": 4,
   "metadata": {},
   "outputs": [
    {
     "name": "stdout",
     "output_type": "stream",
     "text": [
      "Xcsv.shape is (97230, 108)\n",
      "X.shape is (97230, 100)\n"
     ]
    }
   ],
   "source": [
    "X = Xcsv[::]\n",
    "X['first_blood_player1'].fillna(np.random.randint(10), inplace=True)\n",
    "#X['first_blood_player2'].fillna(np.random.randint(10), inplace=True)\n",
    "X.fillna(300, inplace=True)\n",
    "y = X['radiant_win']\n",
    "X.drop(['radiant_win',\n",
    "        'duration',\n",
    "        'tower_status_radiant', \n",
    "        'tower_status_dire', \n",
    "        'barracks_status_dire', \n",
    "        'barracks_status_radiant', \n",
    "        'start_time', \n",
    "        'first_blood_player2' ],\n",
    "       axis=1, inplace=True)\n",
    "\n",
    "rows = X.shape[0]\n",
    "for col in X.columns:\n",
    "    if X[col].count() < rows:\n",
    "        print(f'Признак {col} содержит {rows - Xcsv[col].count()} пропущенных значений')\n",
    "print(f'Xcsv.shape is {Xcsv.shape}')\n",
    "print(f'X.shape is {X.shape}')"
   ]
  },
  {
   "cell_type": "code",
   "execution_count": 5,
   "metadata": {},
   "outputs": [
    {
     "data": {
      "text/plain": [
       "((97230, 100), (97230,))"
      ]
     },
     "execution_count": 5,
     "metadata": {},
     "output_type": "execute_result"
    }
   ],
   "source": [
    "X.shape, y.shape"
   ]
  },
  {
   "cell_type": "markdown",
   "metadata": {},
   "source": [
    "### Бустинг\n",
    "\n",
    "Проведём сначала решётчатый поиск на градиентном бустинге для определения оптимальных параметров. Зададимся количеством деревьев равным 30 и найдём наилучшие значения для глубины деревьев и скорости обучения."
   ]
  },
  {
   "cell_type": "code",
   "execution_count": 6,
   "metadata": {},
   "outputs": [
    {
     "name": "stdout",
     "output_type": "stream",
     "text": [
      "('learning_rate', array([0.2 , 0.25, 0.3 , 0.35, 0.4 ]))\n",
      "('max_depth', array([4, 5, 6], dtype=int8))\n",
      "('n_estimators', array([10, 20, 30], dtype=int8))\n"
     ]
    }
   ],
   "source": [
    "cv = KFold(n_splits=5, shuffle=True, random_state = 241 )\n",
    "params = {\n",
    "    'learning_rate': np.linspace(0.2, 0.4, 5),\n",
    "    'max_depth': np.linspace(4, 6, 3, dtype=np.int8),\n",
    "    'n_estimators': np.linspace(10, 30, 3, dtype=np.int8)}\n",
    "print(*params.items(), sep='\\n')\n",
    "clf = GradientBoostingClassifier(random_state=241, n_estimators=30)           "
   ]
  },
  {
   "cell_type": "code",
   "execution_count": 7,
   "metadata": {},
   "outputs": [],
   "source": [
    "grid = GridSearchCV(clf, params, cv=cv, n_jobs=-1, scoring='roc_auc', verbose=True)"
   ]
  },
  {
   "cell_type": "code",
   "execution_count": 8,
   "metadata": {},
   "outputs": [
    {
     "name": "stdout",
     "output_type": "stream",
     "text": [
      "Fitting 5 folds for each of 45 candidates, totalling 225 fits\n"
     ]
    },
    {
     "name": "stderr",
     "output_type": "stream",
     "text": [
      "[Parallel(n_jobs=-1)]: Done  42 tasks      | elapsed:  9.8min\n",
      "[Parallel(n_jobs=-1)]: Done 192 tasks      | elapsed: 44.6min\n",
      "[Parallel(n_jobs=-1)]: Done 225 out of 225 | elapsed: 53.6min finished\n"
     ]
    },
    {
     "name": "stdout",
     "output_type": "stream",
     "text": [
      "CPU times: user 1min 16s, sys: 760 ms, total: 1min 16s\n",
      "Wall time: 54min 26s\n"
     ]
    },
    {
     "data": {
      "text/plain": [
       "GridSearchCV(cv=KFold(n_splits=5, random_state=241, shuffle=True),\n",
       "       error_score='raise',\n",
       "       estimator=GradientBoostingClassifier(criterion='friedman_mse', init=None,\n",
       "              learning_rate=0.1, loss='deviance', max_depth=3,\n",
       "              max_features=None, max_leaf_nodes=None,\n",
       "              min_impurity_decrease=0.0, min_impurity_split=None,\n",
       "              min_samples_leaf=1, min_samples_split=2,\n",
       "              min_weight_fraction_leaf=0.0, n_estimators=30,\n",
       "              presort='auto', random_state=241, subsample=1.0, verbose=0,\n",
       "              warm_start=False),\n",
       "       fit_params=None, iid=True, n_jobs=-1,\n",
       "       param_grid={'learning_rate': array([0.2 , 0.25, 0.3 , 0.35, 0.4 ]), 'max_depth': array([4, 5, 6], dtype=int8), 'n_estimators': array([10, 20, 30], dtype=int8)},\n",
       "       pre_dispatch='2*n_jobs', refit=True, return_train_score='warn',\n",
       "       scoring='roc_auc', verbose=True)"
      ]
     },
     "execution_count": 8,
     "metadata": {},
     "output_type": "execute_result"
    }
   ],
   "source": [
    "%%time\n",
    "grid.fit(X, y);"
   ]
  },
  {
   "cell_type": "code",
   "execution_count": 9,
   "metadata": {},
   "outputs": [
    {
     "name": "stdout",
     "output_type": "stream",
     "text": [
      "Наилучшие значения параметров: {'learning_rate': 0.4, 'max_depth': 4, 'n_estimators': 30}, наилучший результат на кросс-валидации: 0.70379\n"
     ]
    }
   ],
   "source": [
    "print(f\"Наилучшие значения параметров: {grid.best_params_}, наилучший результат на кросс-валидации: {grid.best_score_:.5f}\")"
   ]
  },
  {
   "cell_type": "markdown",
   "metadata": {},
   "source": [
    "Проведём кросс-валидацию на полной выборке с наилучшими значениями <i>'learning_rate'</i> и <i>'max_depth'</i>, полученными в предыдущем пункте с количеством деревьев равным 30. Измерим время кросс-валидации."
   ]
  },
  {
   "cell_type": "code",
   "execution_count": 12,
   "metadata": {},
   "outputs": [],
   "source": [
    "clf = GradientBoostingClassifier(learning_rate=grid.best_params_['learning_rate'],\n",
    "                                 max_depth=grid.best_params_['max_depth'] ,\n",
    "                                 n_estimators=30,\n",
    "                                 random_state=241)"
   ]
  },
  {
   "cell_type": "code",
   "execution_count": 13,
   "metadata": {},
   "outputs": [
    {
     "name": "stdout",
     "output_type": "stream",
     "text": [
      "CPU times: user 3min, sys: 450 ms, total: 3min\n",
      "Wall time: 3min\n",
      "Качество на кросс-валидации составляет 0.70379\n"
     ]
    }
   ],
   "source": [
    "%time crossval_scores = cross_val_score(clf, X, y, cv=cv, scoring='roc_auc')\n",
    "print(f'Качество на кросс-валидации составляет {crossval_scores.mean():0.5f}')"
   ]
  },
  {
   "cell_type": "markdown",
   "metadata": {},
   "source": [
    "Время кросс-валидации составило  3min 17s, качество - 0.70379\n",
    "\n",
    "Для того чтобы ответить на вопрос - имеет ли смысл  использовать больше 30 деревьев в градиентном бустинге, проверим как будет вести себя ансамбль с количеством деревьев до тысячи."
   ]
  },
  {
   "cell_type": "code",
   "execution_count": 15,
   "metadata": {},
   "outputs": [
    {
     "name": "stdout",
     "output_type": "stream",
     "text": [
      "__________\n",
      "##########\n",
      "Наилучший результат - 0.72608,\n",
      "количество деревьев - 900\n",
      "CPU times: user 31min 56s, sys: 499 ms, total: 31min 56s\n",
      "Wall time: 31min 56s\n"
     ]
    },
    {
     "data": {
      "image/png": "[encoded data removed]",
      "text/plain": [
       "<Figure size 432x288 with 1 Axes>"
      ]
     },
     "metadata": {},
     "output_type": "display_data"
    }
   ],
   "source": [
    "%%time\n",
    "X_train, X_test, y_train, y_test = train_test_split(X, y, test_size = 0.25, random_state = 241 )\n",
    "n_trees = np.linspace(100, 1000, 10, dtype=np.int)\n",
    "#plt.figure()\n",
    "roc = []\n",
    "print('_'*10)\n",
    "max_score = 0,0\n",
    "for n in n_trees:\n",
    "    clf = GradientBoostingClassifier(\n",
    "        max_depth=2, n_estimators=n,random_state=241,\n",
    "        learning_rate=0.225).fit(X_train, y_train)\n",
    "    pred = clf.predict_proba(X_test)[:, 1]\n",
    "    roc_score = roc_auc_score(y_test, pred)\n",
    "    roc.append(roc_score)\n",
    "    if roc_score > max_score[0]:\n",
    "        max_score = roc_score, n\n",
    "    if n % 100 == 0:\n",
    "        print('#', end='')\n",
    "plt.plot(n_trees, roc, 'b', linewidth=1)\n",
    "print(f\"\"\"\n",
    "Наилучший результат - {max_score[0]:.5f},\n",
    "количество деревьев - {max_score[1]}\"\"\")\n"
   ]
  },
  {
   "cell_type": "markdown",
   "metadata": {},
   "source": [
    "С увеличением количества деревьев прирост качества становится незначительным, а время вычисления растёт."
   ]
  },
  {
   "cell_type": "markdown",
   "metadata": {},
   "source": [
    "## Подход #2: логистическая регрессия\n",
    "\n",
    "Оцените качество логистической регрессии (sklearn.linear_model.LogisticRegression с L2-регуляризацией) с помощью кросс-валидации по той же схеме, которая использовалась для градиентного бустинга. Подберите при этом лучший параметр регуляризации (C). Какое наилучшее качество у вас получилось? Как оно соотносится с качеством градиентного бустинга? Чем вы можете объяснить эту разницу? Быстрее ли работает логистическая регрессия по сравнению с градиентным бустингом?<br/>\n",
    "Найдём при помощи решетчатого поиска оптимальный параметр С и проведём кросс-валидацию. Для масштабирования на решетчатом поиске воспользуемся конвеером при помощи функции make_pipeline."
   ]
  },
  {
   "cell_type": "code",
   "execution_count": 16,
   "metadata": {},
   "outputs": [],
   "source": [
    "Xcsv_train = pd.read_csv('features.csv', index_col='match_id')\n",
    "Xcsv_test = pd.read_csv('features_test.csv', index_col='match_id')\n",
    "y = Xcsv_train['radiant_win']"
   ]
  },
  {
   "cell_type": "markdown",
   "metadata": {},
   "source": [
    "Обработка пропущенных значений"
   ]
  },
  {
   "cell_type": "code",
   "execution_count": 17,
   "metadata": {},
   "outputs": [],
   "source": [
    "np.random.seed(17)\n",
    "\n",
    "Xcsv_train['first_blood_player1'].fillna(np.random.randint(10), inplace=True)\n",
    "Xcsv_train['first_blood_player2'].fillna(np.random.randint(10), inplace=True)\n",
    "Xcsv_train.fillna(300, inplace=True)\n",
    "\n",
    "Xcsv_test['first_blood_player1'].fillna(np.random.randint(10), inplace=True)\n",
    "Xcsv_test['first_blood_player2'].fillna(np.random.randint(10), inplace=True)\n",
    "Xcsv_test.fillna(300, inplace=True)\n"
   ]
  },
  {
   "cell_type": "markdown",
   "metadata": {},
   "source": [
    "### Линейная регрессия \"в лоб\"\n",
    "Попробуем подать данные в регрессию  как есть и проведём кросс-валидацию."
   ]
  },
  {
   "cell_type": "code",
   "execution_count": 18,
   "metadata": {},
   "outputs": [],
   "source": [
    "X = Xcsv_train.drop(['radiant_win',\n",
    "        'duration',\n",
    "        'tower_status_radiant', \n",
    "        'tower_status_dire', \n",
    "        'barracks_status_dire', \n",
    "        'barracks_status_radiant', \n",
    "        'start_time', \n",
    "        'first_blood_player2' ],\n",
    "       axis=1) #  + players\n"
   ]
  },
  {
   "cell_type": "code",
   "execution_count": 20,
   "metadata": {},
   "outputs": [
    {
     "name": "stdout",
     "output_type": "stream",
     "text": [
      "CPU times: user 12.6 s, sys: 469 ms, total: 13.1 s\n",
      "Wall time: 1min 45s\n",
      "Значение С при лучшем результате равно 1.0\n"
     ]
    }
   ],
   "source": [
    "pipe = make_pipeline(StandardScaler(), LogisticRegression(random_state=17))#\n",
    "param_grid = {'logisticregression__C': np.logspace(0, 2, 10)}\n",
    "%time grid = GridSearchCV(pipe, param_grid, cv=cv, n_jobs=-1).fit(X, y)\n",
    "\n",
    "C = grid.best_params_['logisticregression__C']\n",
    "print(f'Значение С при лучшем результате равно {C}')\n"
   ]
  },
  {
   "cell_type": "code",
   "execution_count": 21,
   "metadata": {},
   "outputs": [
    {
     "name": "stdout",
     "output_type": "stream",
     "text": [
      "CPU times: user 38.8 s, sys: 1.11 s, total: 39.9 s\n",
      "Wall time: 33.3 s\n",
      "Лучшее качество на кросс-валидации равно 0.7167\n"
     ]
    }
   ],
   "source": [
    "pipe = make_pipeline(MinMaxScaler(), LogisticRegression(random_state=17, C=C))\n",
    "%time crossval_scores = cross_val_score(pipe, X, y, cv=cv, scoring='roc_auc')\n",
    "print(f'Лучшее качество на кросс-валидации равно {crossval_scores.mean():.4f}')"
   ]
  },
  {
   "cell_type": "markdown",
   "metadata": {},
   "source": [
    "Теперь дропнем столбцы lobby_type и r1_hero, r2_hero, ..., r5_hero, d1_hero, d2_hero, ..., d5_hero"
   ]
  },
  {
   "cell_type": "code",
   "execution_count": 22,
   "metadata": {},
   "outputs": [],
   "source": [
    "radcol = ['r%i_hero' %i for i in range(1,6)]\n",
    "direcol = ['d%i_hero' %i for i in range(1,6)]\n",
    "players = radcol + direcol\n",
    "X.drop(players + ['lobby_type'], axis=1, inplace=True)"
   ]
  },
  {
   "cell_type": "code",
   "execution_count": 23,
   "metadata": {},
   "outputs": [
    {
     "name": "stdout",
     "output_type": "stream",
     "text": [
      "CPU times: user 12.9 s, sys: 478 ms, total: 13.4 s\n",
      "Wall time: 2min 8s\n",
      "Значение С при лучшем результате равно 1.0\n"
     ]
    }
   ],
   "source": [
    "pipe = make_pipeline(MinMaxScaler(), LogisticRegression(random_state=17))#\n",
    "param_grid = {'logisticregression__C': np.logspace(0, 2, 10)}\n",
    "%time grid = GridSearchCV(pipe, param_grid, cv=cv, n_jobs=-1).fit(X, y)\n",
    "\n",
    "C = grid.best_params_['logisticregression__C']\n",
    "print(f'Значение С при лучшем результате равно {C}')\n"
   ]
  },
  {
   "cell_type": "code",
   "execution_count": 24,
   "metadata": {},
   "outputs": [
    {
     "name": "stdout",
     "output_type": "stream",
     "text": [
      "CPU times: user 33.1 s, sys: 989 ms, total: 34.1 s\n",
      "Wall time: 27.8 s\n",
      "Лучшее качество на кросс-валидации равно 0.7167\n"
     ]
    }
   ],
   "source": [
    "pipe = make_pipeline(MinMaxScaler(), LogisticRegression(random_state=17, C=C))\n",
    "%time crossval_scores = cross_val_score(pipe, X, y, cv=cv, scoring='roc_auc')\n",
    "print(f'Лучшее качество на кросс-валидации равно {crossval_scores.mean():.4f}')"
   ]
  },
  {
   "cell_type": "markdown",
   "metadata": {},
   "source": [
    "Качество на кросс-валидации не изменилось. Удаление категориальных признаков не повлияло на качество регрессии. Это можно объяснить тем, что линейная регрессия неспособна работать с категориальными признаками, и в таком виде информация об игроках для линейной регрессии является шумом.\n",
    "Логистическая регрессия хорошо подходит для решения задач классификации с линейно-разделяемыми классами, но требует правильной подготовки данных для обучения."
   ]
  },
  {
   "cell_type": "markdown",
   "metadata": {},
   "source": [
    "### Мешок слов\n",
    "Посчитаем количество уникальных героев.\n"
   ]
  },
  {
   "cell_type": "code",
   "execution_count": 25,
   "metadata": {},
   "outputs": [
    {
     "name": "stdout",
     "output_type": "stream",
     "text": [
      "Максимальный id - 112\n",
      "24 отсутствует в списке\n",
      "107 отсутствует в списке\n",
      "108 отсутствует в списке\n",
      "111 отсутствует в списке\n",
      "Всего 108 различных героев\n"
     ]
    }
   ],
   "source": [
    "max_id = Xcsv_train[players].values.max()\n",
    "print(f'Максимальный id - {max_id}')\n",
    "for i in range(1, max_id+1):\n",
    "    if i not in Xcsv_train[players].values:\n",
    "        max_id -= 1\n",
    "        print(f'{i} отсутствует в списке')\n",
    "print(f'Всего {max_id} различных героев')"
   ]
  },
  {
   "cell_type": "markdown",
   "metadata": {},
   "source": [
    "Теперь посмотрим на признаки, которые у нас есть."
   ]
  },
  {
   "cell_type": "code",
   "execution_count": 26,
   "metadata": {},
   "outputs": [
    {
     "name": "stdout",
     "output_type": "stream",
     "text": [
      "start_time lobby_type r1_hero r1_level r1_xp r1_gold r1_lh r1_kills r1_deaths r1_items r2_hero r2_level r2_xp r2_gold r2_lh r2_kills r2_deaths r2_items r3_hero r3_level r3_xp r3_gold r3_lh r3_kills r3_deaths r3_items r4_hero r4_level r4_xp r4_gold r4_lh r4_kills r4_deaths r4_items r5_hero r5_level r5_xp r5_gold r5_lh r5_kills r5_deaths r5_items first_blood_time first_blood_team first_blood_player1 first_blood_player2 radiant_bottle_time radiant_courier_time radiant_flying_courier_time radiant_tpscroll_count radiant_boots_count radiant_ward_observer_count radiant_ward_sentry_count radiant_first_ward_time radiant_win tower_status_radiant tower_status_dire barracks_status_radiant barracks_status_dire "
     ]
    }
   ],
   "source": [
    "[print(column, end=' ') for column in Xcsv_train.columns if not column.startswith('d')];"
   ]
  },
  {
   "cell_type": "markdown",
   "metadata": {},
   "source": [
    "Признаки r1_hero, r2_hero, ..., r5_hero, d1_hero, d2_hero, ..., d5_hero являются категориальными и содержат информацию о реальных id героев. По этим признакам будем строить мешок слов.\n",
    "Признаки относящиеся к первой крови можно не гляда дропнуть, с ними только хуже. Поверьте, я проверял! Сформируем из героев \"мешок слов\". Воспользуемся для этого классом CountVectorizer."
   ]
  },
  {
   "cell_type": "code",
   "execution_count": 27,
   "metadata": {},
   "outputs": [],
   "source": [
    "# Датафреймы с игроками каждой команды для тренировочной и тестовой выборок\n",
    "radiant = Xcsv_train[radcol]\n",
    "dire = Xcsv_train[direcol]\n",
    "radiant_test = Xcsv_test[radcol]\n",
    "dire_test = Xcsv_test[direcol]"
   ]
  },
  {
   "cell_type": "code",
   "execution_count": 28,
   "metadata": {},
   "outputs": [],
   "source": [
    "# Сливаем датафреймы в файлы, чтобы скормить их в CountVectorizer\n",
    "radiant.to_csv('train_radiant_text.txt',  sep=' ', index=None, header=None)\n",
    "dire.to_csv('train_dire_text.txt',  sep=' ', index=None, header=None)\n",
    "radiant_test.to_csv('test_radiant_text.txt',  sep=' ', index=None, header=None)\n",
    "dire_test.to_csv('test_dire_text.txt',  sep=' ', index=None, header=None)"
   ]
  },
  {
   "cell_type": "code",
   "execution_count": 29,
   "metadata": {},
   "outputs": [],
   "source": [
    "!cat train_radiant_text.txt > train_text.txt \n",
    "!cat train_dire_text.txt >> train_text.txt "
   ]
  },
  {
   "cell_type": "code",
   "execution_count": 30,
   "metadata": {},
   "outputs": [],
   "source": [
    "cvr = CountVectorizer(analyzer='word',\n",
    "                      token_pattern=u\"(?u)\\\\b\\\\w+\\\\b\") #\n",
    "with open('train_text.txt') as train, \\\n",
    "open('train_radiant_text.txt') as radiant_train, \\\n",
    "open('train_dire_text.txt') as dire_train, \\\n",
    "open('test_radiant_text.txt') as radiant_test, \\\n",
    "open('test_dire_text.txt') as dire_test:\n",
    "    cvr.fit(train)\n",
    "    X_rad_train = cvr.transform(radiant_train)\n",
    "    X_dire_train = cvr.transform(dire_train)\n",
    "    X_rad_test = cvr.transform(radiant_test)\n",
    "    X_dire_test = cvr.transform(dire_test)"
   ]
  },
  {
   "cell_type": "code",
   "execution_count": 31,
   "metadata": {},
   "outputs": [],
   "source": [
    "X_train_sparse = X_rad_train - X_dire_train\n",
    "X_test_sparse = X_rad_test - X_dire_test"
   ]
  },
  {
   "cell_type": "code",
   "execution_count": 32,
   "metadata": {},
   "outputs": [],
   "source": [
    "#Признаки, которые будут удалены из выборки\n",
    "drop_col_test = radcol + direcol + ['start_time',\n",
    "                                    'lobby_type', \n",
    "                                    'first_blood_time',\n",
    "                                    'first_blood_team', \n",
    "                                    'first_blood_player2',] \n",
    "drop_col = drop_col_test + ['radiant_win',\n",
    "                            'duration',\n",
    "                            'tower_status_radiant', \n",
    "                            'tower_status_dire', \n",
    "                            'barracks_status_dire', \n",
    "                            'barracks_status_radiant']"
   ]
  },
  {
   "cell_type": "code",
   "execution_count": 33,
   "metadata": {},
   "outputs": [],
   "source": [
    "Xd_train = Xcsv_train.drop(drop_col, axis=1)\n",
    "Xd_test = Xcsv_test.drop(drop_col_test, axis=1)"
   ]
  },
  {
   "cell_type": "code",
   "execution_count": 34,
   "metadata": {},
   "outputs": [],
   "source": [
    "X = (hstack([X_train_sparse, Xd_train])).toarray()\n",
    "X_test = hstack([X_test_sparse, Xd_test]).toarray()"
   ]
  },
  {
   "cell_type": "code",
   "execution_count": 35,
   "metadata": {},
   "outputs": [
    {
     "data": {
      "text/plain": [
       "array([0.001     , 0.00177828, 0.00316228, 0.00562341, 0.01      ])"
      ]
     },
     "execution_count": 35,
     "metadata": {},
     "output_type": "execute_result"
    }
   ],
   "source": [
    "pipe = make_pipeline(StandardScaler(), LogisticRegression(random_state=17))#\n",
    "param_grid = {'logisticregression__C': np.logspace(-3, -2, 5)}\n",
    "#param_grid = {'logisticregression__C': np.linspace(0.004, 0.009, 6)}\n",
    "param_grid['logisticregression__C']"
   ]
  },
  {
   "cell_type": "code",
   "execution_count": 36,
   "metadata": {},
   "outputs": [],
   "source": [
    "cv = KFold(n_splits=5, shuffle=True, random_state=17)\n",
    "grid = GridSearchCV(pipe,\n",
    "                    param_grid=param_grid, \n",
    "                    scoring='roc_auc',\n",
    "                    cv=cv, n_jobs=-1,\n",
    "                    verbose=False)"
   ]
  },
  {
   "cell_type": "code",
   "execution_count": 37,
   "metadata": {},
   "outputs": [],
   "source": [
    "grid.fit(X, y);"
   ]
  },
  {
   "cell_type": "code",
   "execution_count": 38,
   "metadata": {},
   "outputs": [
    {
     "data": {
      "text/plain": [
       "(0.7522609327229591, 0.005623413251903491)"
      ]
     },
     "execution_count": 38,
     "metadata": {},
     "output_type": "execute_result"
    }
   ],
   "source": [
    "grid.best_score_, grid.best_params_['logisticregression__C']"
   ]
  },
  {
   "cell_type": "code",
   "execution_count": 39,
   "metadata": {},
   "outputs": [],
   "source": [
    "C = grid.best_params_['logisticregression__C']\n",
    "pipe = make_pipeline(StandardScaler(), LogisticRegression(random_state=17, C=C))#"
   ]
  },
  {
   "cell_type": "code",
   "execution_count": 40,
   "metadata": {},
   "outputs": [
    {
     "name": "stdout",
     "output_type": "stream",
     "text": [
      "CPU times: user 45 s, sys: 1.91 s, total: 46.9 s\n",
      "Wall time: 35.7 s\n",
      "Качество на кросс-валидации равно 0.75226\n"
     ]
    }
   ],
   "source": [
    "%time crossval_scores = cross_val_score(pipe, X, y, cv=cv, scoring='roc_auc')\n",
    "print(f'Качество на кросс-валидации равно {crossval_scores.mean():.5f}')"
   ]
  },
  {
   "cell_type": "code",
   "execution_count": 41,
   "metadata": {},
   "outputs": [],
   "source": [
    "def write_to_submission_file(predicted_labels, index, out_file,\n",
    "                             target='radiant_win', index_label=\"match_id\"):\n",
    "    predicted_df = pd.DataFrame(predicted_labels,\n",
    "                                index = index,\n",
    "                                columns=[target])\n",
    "    predicted_df.to_csv(out_file, index_label=index_label)"
   ]
  },
  {
   "cell_type": "code",
   "execution_count": 42,
   "metadata": {},
   "outputs": [],
   "source": [
    "logreg = LogisticRegression(random_state=17,\n",
    "                            C=grid.best_params_['logisticregression__C']).fit(X, y)\n",
    "y_sub = logreg.predict_proba(X_test)\n",
    "write_to_submission_file(predicted_labels=y_sub[:,1], out_file='BoW.csv', index=Xcsv_test.index)"
   ]
  },
  {
   "cell_type": "code",
   "execution_count": 43,
   "metadata": {},
   "outputs": [
    {
     "name": "stdout",
     "output_type": "stream",
     "text": [
      "Warning: Looks like you're using an outdated API Version, please consider updating (server 1.3.4 / client 1.3.0)\n",
      "Successfully submitted to Dota 2: Win Probability Prediction"
     ]
    }
   ],
   "source": [
    "C = grid.best_params_['logisticregression__C']\n",
    "message = f'\"Мешок слов, логистическая регрессия C = {C:.4f}\"'\n",
    "!kaggle competitions submit -c dota-2-win-probability-prediction -f BoW.csv -m {message}"
   ]
  },
  {
   "cell_type": "markdown",
   "metadata": {},
   "source": [
    "Результат на Kaggle - 0.75555"
   ]
  },
  {
   "cell_type": "markdown",
   "metadata": {},
   "source": [
    "### Как улучшить?\n",
    "Можно попробовать, например, следующий подход. У класса CountVectorizer есть параметры\n",
    "ngram_range и max_feature, с помощью который можно получить информацию о взаимных сочетания различных героев. Такой подход не позволяет получить информацию о всех возможных сочетаниях, но тем не менее полученные сведения позволять улучшить результат. Сначала необходимо для каждого матча в каждой команде упорядочить игроков по id. Это нужно для того, чтобы исключить дублирования одинаковых сочетаний, например (2,3) и (3, 2) или (1, 3, 6), (1, 6, 3)и  (6, 1, 3) и т.д. Параметр ngram_range позволяет задавать размерность сочетаний (зададим их от одного до пяти), max_feature ограничивает число комбинаций, оставляя наиболее значимы. В противном случае нас ждёт комбинаторный взрыв. Ведь число сочетаний из 108 по 2 составляет 5778, а из 108 по 5 уже 111469176. Эмпирически установлено, что наилучший результат получается при max_feature=40000"
   ]
  },
  {
   "cell_type": "code",
   "execution_count": 44,
   "metadata": {},
   "outputs": [],
   "source": [
    "radiant = Xcsv_train[radcol]\n",
    "dire = Xcsv_train[direcol]\n",
    "radiant_test = Xcsv_test[radcol]\n",
    "dire_test = Xcsv_test[direcol]"
   ]
  },
  {
   "cell_type": "code",
   "execution_count": 45,
   "metadata": {},
   "outputs": [],
   "source": [
    "# сортируем героев в командах по ранжиру\n",
    "rad_sort = pd.DataFrame(data=0, index=radiant.index, columns=radcol)\n",
    "rad_sort = radiant.apply(lambda x: pd.Series(np.sort(x), index=x.index), axis=1) \n",
    "dire_sort = pd.DataFrame(data=0, index=radiant.index, columns=direcol)\n",
    "dire_sort = dire.apply(lambda x: pd.Series(np.sort(x), index=x.index), axis=1) \n",
    "rad_sort_test = pd.DataFrame(data=0, index=radiant_test.index, columns=radcol)\n",
    "rad_sort_test = radiant_test.apply(lambda x: pd.Series(np.sort(x), index=x.index), axis=1) \n",
    "dire_sort_test = pd.DataFrame(data=0, index=dire_test.index, columns=direcol)\n",
    "dire_sort_test = dire_test.apply(lambda x: pd.Series(np.sort(x), index=x.index), axis=1) "
   ]
  },
  {
   "cell_type": "code",
   "execution_count": 46,
   "metadata": {},
   "outputs": [],
   "source": [
    "rad_sort.to_csv('train_radiant_text.txt',  sep=' ', index=None, header=None)\n",
    "dire_sort.to_csv('train_dire_text.txt',  sep=' ', index=None, header=None)\n",
    "rad_sort_test.to_csv('test_radiant_text.txt',  sep=' ', index=None, header=None)\n",
    "dire_sort_test.to_csv('test_dire_text.txt',  sep=' ', index=None, header=None)\n"
   ]
  },
  {
   "cell_type": "code",
   "execution_count": 47,
   "metadata": {},
   "outputs": [],
   "source": [
    "!cat train_radiant_text.txt > train_text.txt \n",
    "!cat train_dire_text.txt >> train_text.txt "
   ]
  },
  {
   "cell_type": "code",
   "execution_count": 48,
   "metadata": {},
   "outputs": [],
   "source": [
    "max_features = 40000\n",
    "cvr = CountVectorizer(analyzer='word',\n",
    "                      ngram_range=(1, 5),\n",
    "                      max_features=max_features,\n",
    "                      token_pattern=u\"(?u)\\\\b\\\\w+\\\\b\") #\n",
    "with open('train_text.txt') as train, \\\n",
    "open('train_radiant_text.txt') as radiant_train, \\\n",
    "open('train_dire_text.txt') as dire_train, \\\n",
    "open('test_radiant_text.txt') as radiant_test, \\\n",
    "open('test_dire_text.txt') as dire_test:\n",
    "    cvr.fit(train)\n",
    "    X_rad_train = cvr.transform(radiant_train)\n",
    "    X_dire_train = cvr.transform(dire_train)\n",
    "    X_rad_test = cvr.transform(radiant_test)\n",
    "    X_dire_test = cvr.transform(dire_test)"
   ]
  },
  {
   "cell_type": "code",
   "execution_count": 49,
   "metadata": {},
   "outputs": [],
   "source": [
    "X_train_sparse = X_rad_train - X_dire_train\n",
    "X_test_sparse = X_rad_test - X_dire_test"
   ]
  },
  {
   "cell_type": "code",
   "execution_count": 50,
   "metadata": {},
   "outputs": [],
   "source": [
    "drop_col_test = [col for col in Xcsv_test.columns if '_hero' in col] + \\\n",
    "['start_time', 'first_blood_player1', 'first_blood_player2', 'lobby_type', \n",
    "'first_blood_time']\n",
    "drop_col = drop_col_test + ['radiant_win',\n",
    "        'duration',\n",
    "        'tower_status_radiant', \n",
    "        'tower_status_dire', \n",
    "        'barracks_status_dire', \n",
    "        'barracks_status_radiant']"
   ]
  },
  {
   "cell_type": "code",
   "execution_count": 51,
   "metadata": {},
   "outputs": [],
   "source": [
    "Xd_train = Xcsv_train.drop(drop_col, axis=1)\n",
    "Xd_test = Xcsv_test.drop(drop_col_test, axis=1)"
   ]
  },
  {
   "cell_type": "code",
   "execution_count": 53,
   "metadata": {},
   "outputs": [],
   "source": [
    "scaler = StandardScaler()\n",
    "scaler.fit(Xd_train)\n",
    "Xs_train = scaler.transform(Xd_train)\n",
    "Xs_test = scaler.transform(Xd_test)"
   ]
  },
  {
   "cell_type": "markdown",
   "metadata": {},
   "source": [
    "Здесь пришлось сделать грязный трюк - сначала нормализовать датафрейм с данными, а потом соединять получившийся результат с результатом выхода CountVectorizer. Но из всех скалеров с разреженными матрицами нормально работать может тольк MaxAbsScaler, а с ним результат получался чуть хуже."
   ]
  },
  {
   "cell_type": "code",
   "execution_count": 54,
   "metadata": {},
   "outputs": [],
   "source": [
    "X_train_sparse = hstack([X_train_sparse, Xs_train])\n",
    "X_test_sparse = hstack([X_test_sparse, Xs_test])"
   ]
  },
  {
   "cell_type": "code",
   "execution_count": 55,
   "metadata": {},
   "outputs": [
    {
     "data": {
      "text/plain": [
       "array([0.003, 0.006, 0.009, 0.012, 0.015, 0.018, 0.021, 0.024, 0.027,\n",
       "       0.03 ])"
      ]
     },
     "execution_count": 55,
     "metadata": {},
     "output_type": "execute_result"
    }
   ],
   "source": [
    "#param_grid = {'C': np.logspace(-3, 0, 7)}\n",
    "param_grid = {'C': np.linspace(0.003, 0.03,10)}\n",
    "param_grid['C']"
   ]
  },
  {
   "cell_type": "code",
   "execution_count": 56,
   "metadata": {},
   "outputs": [],
   "source": [
    "cv = KFold(n_splits=5, shuffle=True, random_state=17)\n",
    "grid = GridSearchCV(LogisticRegression(random_state=17),\n",
    "                    param_grid=param_grid,\n",
    "                    scoring='roc_auc',\n",
    "                    cv=cv, n_jobs=-1)"
   ]
  },
  {
   "cell_type": "code",
   "execution_count": 57,
   "metadata": {},
   "outputs": [
    {
     "name": "stdout",
     "output_type": "stream",
     "text": [
      "CPU times: user 49.5 s, sys: 810 ms, total: 50.3 s\n",
      "Wall time: 9min 6s\n"
     ]
    },
    {
     "data": {
      "text/plain": [
       "GridSearchCV(cv=KFold(n_splits=5, random_state=17, shuffle=True),\n",
       "       error_score='raise',\n",
       "       estimator=LogisticRegression(C=1.0, class_weight=None, dual=False, fit_intercept=True,\n",
       "          intercept_scaling=1, max_iter=100, multi_class='ovr', n_jobs=1,\n",
       "          penalty='l2', random_state=17, solver='liblinear', tol=0.0001,\n",
       "          verbose=0, warm_start=False),\n",
       "       fit_params=None, iid=True, n_jobs=-1,\n",
       "       param_grid={'C': array([0.003, 0.006, 0.009, 0.012, 0.015, 0.018, 0.021, 0.024, 0.027,\n",
       "       0.03 ])},\n",
       "       pre_dispatch='2*n_jobs', refit=True, return_train_score='warn',\n",
       "       scoring='roc_auc', verbose=0)"
      ]
     },
     "execution_count": 57,
     "metadata": {},
     "output_type": "execute_result"
    }
   ],
   "source": [
    "%time grid.fit(X_train_sparse, y);"
   ]
  },
  {
   "cell_type": "code",
   "execution_count": 58,
   "metadata": {},
   "outputs": [
    {
     "data": {
      "text/plain": [
       "(0.7520999922813807, {'C': 0.006})"
      ]
     },
     "execution_count": 58,
     "metadata": {},
     "output_type": "execute_result"
    }
   ],
   "source": [
    "grid.best_score_, grid.best_params_ "
   ]
  },
  {
   "cell_type": "code",
   "execution_count": 59,
   "metadata": {},
   "outputs": [],
   "source": [
    "# Обучаем регрессию с лучшим получившимся параметром C\n",
    "logreg = LogisticRegression(random_state=17, **grid.best_params_).fit(X_train_sparse, y)"
   ]
  },
  {
   "cell_type": "code",
   "execution_count": 60,
   "metadata": {},
   "outputs": [],
   "source": [
    "y_sub = logreg.predict_proba(X_test_sparse)\n",
    "write_to_submission_file(predicted_labels=y_sub[:,1], out_file='WoB.csv', index=Xcsv_test.index)"
   ]
  },
  {
   "cell_type": "code",
   "execution_count": 67,
   "metadata": {},
   "outputs": [
    {
     "name": "stdout",
     "output_type": "stream",
     "text": [
      "Минимальное значение прогноза на тестовой выборке равно 0.00384\n",
      "Максимальное значение прогноза на тестовой выборке равно 0.99616\n"
     ]
    }
   ],
   "source": [
    "print(f'Минимальное значение прогноза на тестовой выборке равно {y_sub.min():0.5f}')\n",
    "print(f'Максимальное значение прогноза на тестовой выборке равно {y_sub.max():0.5f}')"
   ]
  },
  {
   "cell_type": "code",
   "execution_count": 62,
   "metadata": {},
   "outputs": [
    {
     "name": "stdout",
     "output_type": "stream",
     "text": [
      "Warning: Looks like you're using an outdated API Version, please consider updating (server 1.3.4 / client 1.3.0)\n",
      "Successfully submitted to Dota 2: Win Probability Prediction"
     ]
    }
   ],
   "source": [
    "C = grid.best_params_['C']\n",
    "message = f'\"CountVectorizer, {max_features} n-gramms, суммы признаков, логистическая регрессия  C = {C:.4f}\"'\n",
    "!kaggle competitions submit -c dota-2-win-probability-prediction -f WoB.csv -m {message}"
   ]
  },
  {
   "cell_type": "markdown",
   "metadata": {},
   "source": [
    "### Результат на Kaggle - 0.75772"
   ]
  },
  {
   "cell_type": "code",
   "execution_count": null,
   "metadata": {},
   "outputs": [],
   "source": []
  }
 ],
 "metadata": {
  "kernelspec": {
   "display_name": "Python 3",
   "language": "python",
   "name": "python3"
  },
  "language_info": {
   "codemirror_mode": {
    "name": "ipython",
    "version": 3
   },
   "file_extension": ".py",
   "mimetype": "text/x-python",
   "name": "python",
   "nbconvert_exporter": "python",
   "pygments_lexer": "ipython3",
   "version": "3.6.6"
  }
 },
 "nbformat": 4,
 "nbformat_minor": 2
}
