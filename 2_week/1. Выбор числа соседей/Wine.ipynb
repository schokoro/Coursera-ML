{
 "cells": [
  {
   "cell_type": "code",
   "execution_count": 1,
   "metadata": {},
   "outputs": [],
   "source": [
    "import pandas as pd\n",
    "from pandas import DataFrame, Series\n",
    "import numpy as np\n",
    "from numpy import array\n",
    "from sklearn.neighbors import KNeighborsClassifier\n",
    "from sklearn.model_selection import train_test_split, KFold, cross_val_score\n",
    "from sklearn.preprocessing import scale"
   ]
  },
  {
   "cell_type": "code",
   "execution_count": 2,
   "metadata": {},
   "outputs": [],
   "source": [
    "data = pd.read_csv('wine.csv', header=None)\n",
    "out_data = data[0]\n",
    "inp_data = data.drop(0, axis=1)"
   ]
  },
  {
   "cell_type": "code",
   "execution_count": 3,
   "metadata": {},
   "outputs": [],
   "source": [
    "kfold = KFold(n_splits=5, shuffle=True, random_state=42)"
   ]
  },
  {
   "cell_type": "code",
   "execution_count": 4,
   "metadata": {},
   "outputs": [
    {
     "name": "stdout",
     "output_type": "stream",
     "text": [
      "score(knn[1] = 0.7304761904761905)\n"
     ]
    }
   ],
   "source": [
    "k_max = 0\n",
    "k_max_value = 0\n",
    "for k in range(1,51):\n",
    "    knn = KNeighborsClassifier(n_neighbors=k)\n",
    "    score = cross_val_score(knn, inp_data, out_data, cv=kfold, scoring='accuracy')\n",
    "    if score.mean() > k_max_value:\n",
    "        k_max = k\n",
    "        k_max_value = score.mean()\n",
    "print('score(knn[{0}] = {1})'.format(k_max, k_max_value))\n",
    "    "
   ]
  },
  {
   "cell_type": "code",
   "execution_count": 5,
   "metadata": {},
   "outputs": [],
   "source": [
    "with open('k.txt', 'w') as k_file, open('k_value.txt', 'w') as k_value_file:\n",
    "    k_file.write(str(k_max))\n",
    "    k_value_file.write(str(k_max_value))"
   ]
  },
  {
   "cell_type": "markdown",
   "metadata": {},
   "source": [
    "# Препроцессинг\n"
   ]
  },
  {
   "cell_type": "code",
   "execution_count": 6,
   "metadata": {},
   "outputs": [],
   "source": [
    "inp_data_scale = scale(inp_data)"
   ]
  },
  {
   "cell_type": "code",
   "execution_count": 7,
   "metadata": {},
   "outputs": [
    {
     "name": "stdout",
     "output_type": "stream",
     "text": [
      "score(knn[29] = 0.9776190476190475)\n"
     ]
    }
   ],
   "source": [
    "k_max = 0\n",
    "k_max_value = 0\n",
    "for k in range(1,51):\n",
    "    knn = KNeighborsClassifier(n_neighbors=k)\n",
    "    score = cross_val_score(knn, inp_data_scale, out_data, cv=kfold, scoring='accuracy')\n",
    "    if score.mean() > k_max_value:\n",
    "        k_max = k\n",
    "        k_max_value = score.mean()\n",
    "print('score(knn[{0}] = {1})'.format(k_max, k_max_value))"
   ]
  },
  {
   "cell_type": "code",
   "execution_count": 8,
   "metadata": {},
   "outputs": [],
   "source": [
    "with open('k_scale.txt', 'w') as k_file, open('k_scale_value.txt', 'w') as k_value_file:\n",
    "    k_file.write(str(k_max))\n",
    "    k_value_file.write(str(k_max_value))"
   ]
  },
  {
   "cell_type": "code",
   "execution_count": null,
   "metadata": {
    "collapsed": true
   },
   "outputs": [],
   "source": []
  }
 ],
 "metadata": {
  "kernelspec": {
   "display_name": "Python 3",
   "language": "python",
   "name": "python3"
  },
  "language_info": {
   "codemirror_mode": {
    "name": "ipython",
    "version": 3
   },
   "file_extension": ".py",
   "mimetype": "text/x-python",
   "name": "python",
   "nbconvert_exporter": "python",
   "pygments_lexer": "ipython3",
   "version": "3.6.4"
  }
 },
 "nbformat": 4,
 "nbformat_minor": 2
}
