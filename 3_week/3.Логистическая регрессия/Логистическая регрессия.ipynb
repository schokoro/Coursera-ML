{
 "cells": [
  {
   "cell_type": "code",
   "execution_count": null,
   "metadata": {},
   "outputs": [],
   "source": [
    "import pandas as pd\n",
    "import numpy as np\n",
    "import sklearn.metrics\n",
    "from math import exp\n",
    "rawData = pd.read_csv('data-logistic.csv', header=None)\n",
    "X_ = rawData.values[:, 1:]\n",
    "y_ = rawData.values[:, :1].T[0]\n",
    "\n",
    "def sigmoid(x):\n",
    "    return 1 / (1 + exp(-x))\n",
    "\n",
    "def distance(a, b):\n",
    "    return np.sqrt(np.square(a[0]-b[0]) + np.square(a[1] - b[1]))\n",
    "\n",
    "def log_regression(X, y, k, w, C, eps, max_iter):\n",
    "    w1, w2 = w\n",
    "    for i in range(max_iter):\n",
    "        w1new = w1 + k * np.mean(y * X[:,0] * (1 - (1./(1+np.exp(-y*(w1 * X[:,0] + w2 * X[:,1])))))) - k*C*w1\n",
    "        w2new = w2 + k * np.mean(y * X[:,1] * (1 - (1./(1+np.exp(-y*(w1 * X[:,0] + w2 * X[:,1])))))) - k*C*w2\n",
    "        if distance((w1new, w2new), (w1, w2)) < eps:\n",
    "            break\n",
    "        w1, w2 = w1new, w2new\n",
    "    predictions = []    \n",
    "    for i in range(len(X)):\n",
    "        t1 = w1 * X[i, 0] + w2 * X[i, 1]\n",
    "        s = sigmoid(t1)\n",
    "        predictions.append(s)\n",
    "    return predictions\n",
    "        \n",
    "p0 = log_regression(X_, y_, 0.1, [0.0, 0.0], 0, 1e-5, 1000000000000)\n",
    "p1 = log_regression(X_, y_, 0.1, [0.0, 0.0], 18, 1e-5, 1000000000000)\n",
    "print(sklearn.metrics.roc_auc_score(y_, p0))\n",
    "print(sklearn.metrics.roc_auc_score(y_, p1))\n"
   ]
  },
  {
   "cell_type": "code",
   "execution_count": null,
   "metadata": {},
   "outputs": [],
   "source": []
  }
 ],
 "metadata": {
  "kernelspec": {
   "display_name": "Python 3",
   "language": "python",
   "name": "python3"
  },
  "language_info": {
   "codemirror_mode": {
    "name": "ipython",
    "version": 3
   },
   "file_extension": ".py",
   "mimetype": "text/x-python",
   "name": "python",
   "nbconvert_exporter": "python",
   "pygments_lexer": "ipython3",
   "version": "3.6.3"
  }
 },
 "nbformat": 4,
 "nbformat_minor": 2
}
