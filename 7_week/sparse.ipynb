{
 "cells": [
  {
   "cell_type": "code",
   "execution_count": 1,
   "metadata": {},
   "outputs": [],
   "source": [
    "import time\n",
    "import datetime\n",
    "import pandas as pd\n",
    "from pandas import DataFrame\n",
    "import numpy as np\n",
    "import scipy\n",
    "from numpy import array, zeros\n",
    "from sklearn.model_selection import KFold, cross_val_score, GridSearchCV\n",
    "from sklearn.metrics import r2_score, make_scorer, roc_auc_score, roc_curve\n",
    "from sklearn.model_selection import train_test_split\n",
    "from sklearn.preprocessing import MinMaxScaler, StandardScaler\n",
    "from sklearn.linear_model import LogisticRegression\n",
    "from math import exp\n",
    "from sklearn.feature_extraction.text import CountVectorizer"
   ]
  },
  {
   "cell_type": "code",
   "execution_count": 2,
   "metadata": {},
   "outputs": [],
   "source": [
    "Xcsv = pd.read_csv('out_featers.csv', index_col='match_id')"
   ]
  },
  {
   "cell_type": "code",
   "execution_count": 3,
   "metadata": {},
   "outputs": [],
   "source": [
    "n_samples = Xcsv.shape[0]#10000#\n",
    "X = Xcsv[0:n_samples]\n",
    "index = X.index\n",
    "X = X.fillna(0)#, inplace=True)\n",
    "Y = X['radiant_win']\n",
    "Z = Y[0:n_samples]\n",
    "X.drop(['radiant_win',\n",
    "        'duration',\n",
    "        'tower_status_radiant', \n",
    "        'tower_status_dire', \n",
    "        'barracks_status_dire', \n",
    "        'barracks_status_radiant', \n",
    "        'start_time'],\n",
    "       axis=1, inplace=True)"
   ]
  },
  {
   "cell_type": "code",
   "execution_count": 4,
   "metadata": {},
   "outputs": [],
   "source": [
    "heroes = [name for name in Xcsv.columns.values if '_hero' in name]\n",
    "Xh = X[heroes]\n",
    "Xl = X['lobby_type']\n",
    "max_hero = Xh.values.max()\n",
    "g_params = [column.replace('r1_', '') for column in Xcsv.columns if 'r1' in column]"
   ]
  },
  {
   "cell_type": "code",
   "execution_count": 5,
   "metadata": {},
   "outputs": [],
   "source": [
    "X.drop(heroes, axis=1, inplace=True)\n",
    "X.drop('lobby_type', axis=1, inplace=True)\n",
    "Xh_team = pd.get_dummies(Xh, columns=heroes)\n",
    "Xl_dummy = pd.get_dummies(Xl).values"
   ]
  },
  {
   "cell_type": "code",
   "execution_count": 6,
   "metadata": {},
   "outputs": [],
   "source": [
    "X_radiant = DataFrame(index=index)\n",
    "X_dire = DataFrame(index=index)\n",
    "for person in range(1, max_hero + 1):\n",
    "    dire = zeros((n_samples), dtype=int) \n",
    "    radiant =  zeros((n_samples), dtype=int)\n",
    "    for num_team in range(1, 6):\n",
    "#        d_name = f'd{num_team}_hero_{gamer}'\n",
    "#        r_name = f'r{num_team}_hero_{gamer}'\n",
    "        try:\n",
    "            dire += Xh_team[f'd{num_team}_hero_{person}'].values\n",
    "        except:\n",
    "            pass\n",
    "        try:\n",
    "            radiant += Xh_team[f'r{num_team}_hero_{person}'].values\n",
    "        except:\n",
    "            pass\n",
    "    try:\n",
    "        X_radiant[f'{person}'] = radiant\n",
    "    except:\n",
    "        pass\n",
    "    try:\n",
    "        X_dire[f'{person}'] = dire\n",
    "    except:\n",
    "        pass\n",
    "X_gamers = X_radiant - X_dire"
   ]
  },
  {
   "cell_type": "code",
   "execution_count": 7,
   "metadata": {},
   "outputs": [],
   "source": [
    "scaler = MinMaxScaler()#StandardScaler()#\n",
    "#XX = np.concatenate([X_gamers, Xl_dummy, X], axis=1)\n",
    "XX = np.concatenate([X_radiant, X_dire, Xl_dummy, X], axis=1)"
   ]
  },
  {
   "cell_type": "code",
   "execution_count": 8,
   "metadata": {},
   "outputs": [],
   "source": [
    "X_train, X_test, Y_train, Y_test = train_test_split(\n",
    "    XX, Y, test_size = 0.3,\n",
    "    random_state = 241 )\n",
    "X_train_scaled = scaler.fit_transform(X_train);\n",
    "X_test_scaled = scaler.transform(X_test)"
   ]
  },
  {
   "cell_type": "code",
   "execution_count": 9,
   "metadata": {},
   "outputs": [
    {
     "name": "stdout",
     "output_type": "stream",
     "text": [
      "CPU times: user 6.32 s, sys: 10 ms, total: 6.33 s\n",
      "Wall time: 6.75 s\n",
      "0.6833624738592341\n"
     ]
    }
   ],
   "source": [
    "#logreg = LogisticRegression(n_jobs=-1, solver='sag')\n",
    "logreg = LogisticRegression(C=0.25)\n",
    "%time logreg.fit(X_train_scaled, Y_train);\n",
    "s = logreg.score(X_test_scaled, Y_test)\n",
    "print(s)"
   ]
  },
  {
   "cell_type": "code",
   "execution_count": 10,
   "metadata": {},
   "outputs": [
    {
     "name": "stdout",
     "output_type": "stream",
     "text": [
      "CPU times: user 12.3 s, sys: 220 ms, total: 12.6 s\n",
      "Wall time: 60 s\n"
     ]
    },
    {
     "data": {
      "text/plain": [
       "GridSearchCV(cv=KFold(n_splits=5, random_state=241, shuffle=True),\n",
       "       error_score='raise',\n",
       "       estimator=LogisticRegression(C=1.0, class_weight=None, dual=False, fit_intercept=True,\n",
       "          intercept_scaling=1, max_iter=100, multi_class='ovr', n_jobs=1,\n",
       "          penalty='l2', random_state=241, solver='liblinear', tol=0.0001,\n",
       "          verbose=0, warm_start=False),\n",
       "       fit_params=None, iid=True, n_jobs=-1,\n",
       "       param_grid={'C': [0.15, 0.2, 0.25, 0.3, 0.35]},\n",
       "       pre_dispatch='2*n_jobs', refit=True, return_train_score='warn',\n",
       "       scoring=make_scorer(roc_auc_score), verbose=False)"
      ]
     },
     "execution_count": 10,
     "metadata": {},
     "output_type": "execute_result"
    }
   ],
   "source": [
    "cv = KFold(n_splits=5, shuffle=True, random_state=241)\n",
    "scorer = make_scorer(roc_auc_score)\n",
    "params = {'C' : [(i/20) for i in range(3,8)]}\n",
    "grid = GridSearchCV(LogisticRegression(random_state=241), params, cv=cv, n_jobs=-1, scoring=scorer, verbose=False)\n",
    "%time grid.fit(X_train_scaled, Y_train)"
   ]
  },
  {
   "cell_type": "code",
   "execution_count": 11,
   "metadata": {},
   "outputs": [
    {
     "data": {
      "text/plain": [
       "{'C': 0.15}"
      ]
     },
     "execution_count": 11,
     "metadata": {},
     "output_type": "execute_result"
    }
   ],
   "source": [
    "grid.best_params_"
   ]
  },
  {
   "cell_type": "code",
   "execution_count": 12,
   "metadata": {},
   "outputs": [
    {
     "data": {
      "text/plain": [
       "0.6799123974174485"
      ]
     },
     "execution_count": 12,
     "metadata": {},
     "output_type": "execute_result"
    }
   ],
   "source": [
    "grid.best_score_"
   ]
  },
  {
   "cell_type": "code",
   "execution_count": 13,
   "metadata": {},
   "outputs": [
    {
     "data": {
      "text/plain": [
       "pandas.core.frame.DataFrame"
      ]
     },
     "execution_count": 13,
     "metadata": {},
     "output_type": "execute_result"
    }
   ],
   "source": [
    "type(X_gamers)"
   ]
  },
  {
   "cell_type": "code",
   "execution_count": 14,
   "metadata": {},
   "outputs": [
    {
     "data": {
      "text/plain": [
       "['hero',\n",
       " 'level',\n",
       " 'xp',\n",
       " 'gold',\n",
       " 'lh',\n",
       " 'kills',\n",
       " 'deaths',\n",
       " 'items',\n",
       " 'first_blood_player1']"
      ]
     },
     "execution_count": 14,
     "metadata": {},
     "output_type": "execute_result"
    }
   ],
   "source": [
    "[column.replace('r1_', '') for column in Xcsv.columns if 'r1' in column]"
   ]
  },
  {
   "cell_type": "code",
   "execution_count": 15,
   "metadata": {},
   "outputs": [],
   "source": [
    "matrixes = {column.replace('r1_', ''):DataFrame(index=index)\n",
    "            for column in Xcsv.columns if 'r1' in column}"
   ]
  },
  {
   "cell_type": "code",
   "execution_count": 16,
   "metadata": {},
   "outputs": [
    {
     "data": {
      "text/plain": [
       "dict_keys(['hero', 'level', 'xp', 'gold', 'lh', 'kills', 'deaths', 'items', 'first_blood_player1'])"
      ]
     },
     "execution_count": 16,
     "metadata": {},
     "output_type": "execute_result"
    }
   ],
   "source": [
    "matrixes.keys()"
   ]
  },
  {
   "cell_type": "code",
   "execution_count": 17,
   "metadata": {},
   "outputs": [],
   "source": [
    "columns = [col for col in Xcsv.columns]"
   ]
  },
  {
   "cell_type": "code",
   "execution_count": 18,
   "metadata": {},
   "outputs": [
    {
     "name": "stdout",
     "output_type": "stream",
     "text": [
      "start_time\n",
      "lobby_type\n",
      "r1_hero\n",
      "r1_level\n",
      "r1_xp\n",
      "r1_gold\n",
      "r1_lh\n",
      "r1_kills\n",
      "r1_deaths\n",
      "r1_items\n",
      "r2_hero\n",
      "r2_level\n",
      "r2_xp\n",
      "r2_gold\n",
      "r2_lh\n",
      "r2_kills\n",
      "r2_deaths\n",
      "r2_items\n",
      "r3_hero\n",
      "r3_level\n",
      "r3_xp\n",
      "r3_gold\n",
      "r3_lh\n",
      "r3_kills\n",
      "r3_deaths\n",
      "r3_items\n",
      "r4_hero\n",
      "r4_level\n",
      "r4_xp\n",
      "r4_gold\n",
      "r4_lh\n",
      "r4_kills\n",
      "r4_deaths\n",
      "r4_items\n",
      "r5_hero\n",
      "r5_level\n",
      "r5_xp\n",
      "r5_gold\n",
      "r5_lh\n",
      "r5_kills\n",
      "r5_deaths\n",
      "r5_items\n",
      "d1_hero\n",
      "d1_level\n",
      "d1_xp\n",
      "d1_gold\n",
      "d1_lh\n",
      "d1_kills\n",
      "d1_deaths\n",
      "d1_items\n",
      "d2_hero\n",
      "d2_level\n",
      "d2_xp\n",
      "d2_gold\n",
      "d2_lh\n",
      "d2_kills\n",
      "d2_deaths\n",
      "d2_items\n",
      "d3_hero\n",
      "d3_level\n",
      "d3_xp\n",
      "d3_gold\n",
      "d3_lh\n",
      "d3_kills\n",
      "d3_deaths\n",
      "d3_items\n",
      "d4_hero\n",
      "d4_level\n",
      "d4_xp\n",
      "d4_gold\n",
      "d4_lh\n",
      "d4_kills\n",
      "d4_deaths\n",
      "d4_items\n",
      "d5_hero\n",
      "d5_level\n",
      "d5_xp\n",
      "d5_gold\n",
      "d5_lh\n",
      "d5_kills\n",
      "d5_deaths\n",
      "d5_items\n",
      "first_blood_time\n",
      "first_blood_team\n",
      "first_blood_player1\n",
      "first_blood_player2\n",
      "radiant_bottle_time\n",
      "radiant_courier_time\n",
      "radiant_flying_courier_time\n",
      "radiant_tpscroll_count\n",
      "radiant_boots_count\n",
      "radiant_ward_observer_count\n",
      "radiant_ward_sentry_count\n",
      "radiant_first_ward_time\n",
      "dire_bottle_time\n",
      "dire_courier_time\n",
      "dire_flying_courier_time\n",
      "dire_tpscroll_count\n",
      "dire_boots_count\n",
      "dire_ward_observer_count\n",
      "dire_ward_sentry_count\n",
      "dire_first_ward_time\n",
      "duration\n",
      "radiant_win\n",
      "tower_status_radiant\n",
      "tower_status_dire\n",
      "barracks_status_radiant\n",
      "barracks_status_dire\n"
     ]
    }
   ],
   "source": [
    "for col in columns:\n",
    "    print(col)"
   ]
  },
  {
   "cell_type": "code",
   "execution_count": 9,
   "metadata": {},
   "outputs": [
    {
     "name": "stdout",
     "output_type": "stream",
     "text": [
      "mplayer: could not connect to socket\n",
      "mplayer: No such file or directory\n",
      "Failed to open LIRC support. You will not be able to use your remote control.\n",
      "File not found: '2'\n",
      "Failed to open 2.\n",
      "File not found: '1'\n",
      "Failed to open 1.\n"
     ]
    }
   ],
   "source": [
    "!mplayer ~/Музыка/tada.wav > /dev/null "
   ]
  },
  {
   "cell_type": "code",
   "execution_count": null,
   "metadata": {},
   "outputs": [],
   "source": []
  }
 ],
 "metadata": {
  "kernelspec": {
   "display_name": "Python 3",
   "language": "python",
   "name": "python3"
  },
  "language_info": {
   "codemirror_mode": {
    "name": "ipython",
    "version": 3
   },
   "file_extension": ".py",
   "mimetype": "text/x-python",
   "name": "python",
   "nbconvert_exporter": "python",
   "pygments_lexer": "ipython3",
   "version": "3.6.6"
  }
 },
 "nbformat": 4,
 "nbformat_minor": 2
}
