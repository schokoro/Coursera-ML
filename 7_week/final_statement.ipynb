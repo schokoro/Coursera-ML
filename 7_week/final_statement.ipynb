{
 "cells": [
  {
   "cell_type": "code",
   "execution_count": 1,
   "metadata": {},
   "outputs": [],
   "source": [
    "from numpy import int8\n",
    "def to_dummy(x, out='all'):\n",
    "    \"\"\"Convert nums to dummies\"\"\"\n",
    "    index = x.index\n",
    "    heroes = [name for name in x.columns.values if '_hero' in name]\n",
    "    xh = x[heroes]\n",
    "    #xl = x['lobby_type']\n",
    "    max_hero = xh.values.max()\n",
    "    xn = x.drop(heroes, axis=1)\n",
    "    #xn.drop('lobby_type', axis=1, inplace=True)\n",
    "    xh_team = pd.get_dummies(xh, columns=heroes)\n",
    "    #xl_dummy = pd.get_dummies(xl).values\n",
    "    x_radiant = pd.DataFrame(index=index)\n",
    "    x_dire = pd.DataFrame(index=index)\n",
    "    for person in range(1, max_hero + 1):\n",
    "        dire = zeros((xn.shape[0]), dtype=int8)\n",
    "        radiant = zeros((xn.shape[0]), dtype=int8)\n",
    "        for num_team in range(1, 6):\n",
    "            try:\n",
    "                dire += xh_team[f'd{num_team}_hero_{person}'].values\n",
    "            except:\n",
    "                pass\n",
    "            try:\n",
    "                radiant += xh_team[f'r{num_team}_hero_{person}'].values\n",
    "            except:\n",
    "                pass\n",
    "        try:\n",
    "            x_radiant[f'{person}'] = radiant\n",
    "        except:\n",
    "            pass\n",
    "        try:\n",
    "            x_dire[f'{person}'] = dire\n",
    "        except:\n",
    "            pass\n",
    "    if out == 'all':\n",
    "        return np.concatenate([x_radiant - x_dire, xn], axis=1)#xl_dummy, \n",
    "    elif out == 'radiant':\n",
    "        return np.concatenate([x_radiant, xn], axis=1)#, xl_dummy\n",
    "    elif out == \"dire\":\n",
    "        return np.concatenate([x_dire, xn], axis=1)#, xl_dummy\n",
    "\n"
   ]
  },
  {
   "cell_type": "code",
   "execution_count": 12,
   "metadata": {},
   "outputs": [],
   "source": [
    "import pandas as pd\n",
    "from pandas import DataFrame\n",
    "import numpy as np\n",
    "from numpy import array, zeros\n",
    "from sklearn.model_selection import train_test_split, KFold, cross_val_score, GridSearchCV\n",
    "from sklearn.metrics import r2_score, make_scorer, roc_auc_score, roc_curve\n",
    "from sklearn.preprocessing import MinMaxScaler, StandardScaler\n",
    "from sklearn.linear_model import LogisticRegression\n",
    "from sklearn.feature_extraction.text import CountVectorizer\n",
    "from sklearn.ensemble import GradientBoostingClassifier\n",
    "from sklearn.pipeline import make_pipeline, Pipeline\n",
    "from sklearn.decomposition import PCA\n",
    "import seaborn as sns\n",
    "import warnings\n",
    "import matplotlib.pyplot as plt\n",
    "from math import exp\n",
    "import time\n",
    "import datetime\n",
    "%matplotlib  inline\n",
    "warnings.simplefilter('ignore')"
   ]
  },
  {
   "cell_type": "markdown",
   "metadata": {},
   "source": [
    "## Подход 1: градиентный бустинг \"в лоб\"\n",
    "\n",
    "В отчете по данному этапу необходимо ответить на следующие вопросы:\n",
    "1. Какие признаки имеют пропуски среди своих значений? Что могут означать пропуски в этих признаках (ответьте на этот вопрос для двух любых признаков)?\n",
    "2. Как называется столбец, содержащий целевую переменную?\n",
    "3. Как долго проводилась кросс-валидация для градиентного бустинга с 30 деревьями? Инструкцию по измерению времени можно найти ниже по тексту. Какое качество при этом получилось? Напомним, что в данном задании мы используем метрику качества AUC-ROC.\n",
    "4. Имеет ли смысл использовать больше 30 деревьев в градиентном бустинге? Что бы вы предложили делать, чтобы ускорить его обучение при увеличении количества деревьев?"
   ]
  },
  {
   "cell_type": "markdown",
   "metadata": {},
   "source": [
    "Загружаем файл с данными о матчах..."
   ]
  },
  {
   "cell_type": "code",
   "execution_count": 3,
   "metadata": {},
   "outputs": [],
   "source": [
    "Xcsv = pd.read_csv('out_featers.csv', index_col='match_id')"
   ]
  },
  {
   "cell_type": "markdown",
   "metadata": {},
   "source": [
    "... и проверяем какие признаки содержат пропущенные данные"
   ]
  },
  {
   "cell_type": "code",
   "execution_count": 4,
   "metadata": {},
   "outputs": [
    {
     "name": "stdout",
     "output_type": "stream",
     "text": [
      "Признак first_blood_time содержит 14736 пропущенных значений\n",
      "Признак first_blood_team содержит 14736 пропущенных значений\n",
      "Признак first_blood_player1 содержит 14736 пропущенных значений\n",
      "Признак first_blood_player2 содержит 41135 пропущенных значений\n",
      "Признак radiant_bottle_time содержит 15691 пропущенных значений\n",
      "Признак radiant_courier_time содержит 692 пропущенных значений\n",
      "Признак radiant_flying_courier_time содержит 27479 пропущенных значений\n",
      "Признак radiant_first_ward_time содержит 1836 пропущенных значений\n",
      "Признак dire_bottle_time содержит 16143 пропущенных значений\n",
      "Признак dire_courier_time содержит 676 пропущенных значений\n",
      "Признак dire_flying_courier_time содержит 26098 пропущенных значений\n",
      "Признак dire_first_ward_time содержит 1826 пропущенных значений\n"
     ]
    }
   ],
   "source": [
    "rows = Xcsv.shape[0]\n",
    "for col in Xcsv.columns:\n",
    "    if Xcsv[col].count() < rows:\n",
    "        print(f'Признак {col} содержит {rows - Xcsv[col].count()} пропущенных значений')\n",
    "        "
   ]
  },
  {
   "cell_type": "markdown",
   "metadata": {},
   "source": [
    "Большинство признаков с пропущенными значениями относятся к временным меткам и означают, что за первые пять минут матча соответствующее событие не произошло. В задании рекомендуется заменить такие значения на 0, но такая рекомендация в данном случае не вполне подходит. Правильнее было бы заменить эти значения, на время превосходящее или равное пяти минутам. Пропущенные значения first_blood_player1 и first_blood_player2 заменим на медианные значения по признаку. Затем проверим, что у нас больше не осталось пропущенных данных.\n",
    "\n",
    "<b>Целевая переменная содержится в столбце 'radiant_win'.</b> Создадим из него объект ответов Y и удалим из обучающей выборки. Удалим из выборки признаки, связанные с итогами матча."
   ]
  },
  {
   "cell_type": "code",
   "execution_count": 5,
   "metadata": {},
   "outputs": [
    {
     "name": "stdout",
     "output_type": "stream",
     "text": [
      "Xcsv.shape is (97230, 108)\n",
      "X.shape is (97230, 101)\n"
     ]
    }
   ],
   "source": [
    "X = Xcsv[::]\n",
    "X['first_blood_player1'].fillna(X['first_blood_player1'].median(), inplace=True)\n",
    "X['first_blood_player2'].fillna(X['first_blood_player2'].median(), inplace=True)\n",
    "X.fillna(0, inplace=True)\n",
    "Y = X['radiant_win']\n",
    "X.drop(['radiant_win',\n",
    "        'duration',\n",
    "        'tower_status_radiant', \n",
    "        'tower_status_dire', \n",
    "        'barracks_status_dire', \n",
    "        'barracks_status_radiant', \n",
    "        'start_time'],\n",
    "       axis=1, inplace=True)\n",
    "rows = X.shape[0]\n",
    "for col in X.columns:\n",
    "    if X[col].count() < rows:\n",
    "        print(f'Признак {col} содержит {rows - Xcsv[col].count()} пропущенных значений')\n",
    "print(f'Xcsv.shape is {Xcsv.shape}')\n",
    "print(f'X.shape is {X.shape}')"
   ]
  },
  {
   "cell_type": "code",
   "execution_count": 13,
   "metadata": {},
   "outputs": [
    {
     "data": {
      "text/plain": [
       "array([[<matplotlib.axes._subplots.AxesSubplot object at 0x7f01d9921898>,\n",
       "        <matplotlib.axes._subplots.AxesSubplot object at 0x7f01d8ce50b8>,\n",
       "        <matplotlib.axes._subplots.AxesSubplot object at 0x7f01d8c91f98>],\n",
       "       [<matplotlib.axes._subplots.AxesSubplot object at 0x7f01d8c560b8>,\n",
       "        <matplotlib.axes._subplots.AxesSubplot object at 0x7f01d8c100b8>,\n",
       "        <matplotlib.axes._subplots.AxesSubplot object at 0x7f01d8c100f0>],\n",
       "       [<matplotlib.axes._subplots.AxesSubplot object at 0x7f01d8bf1ba8>,\n",
       "        <matplotlib.axes._subplots.AxesSubplot object at 0x7f01d8b370b8>,\n",
       "        <matplotlib.axes._subplots.AxesSubplot object at 0x7f01d8b6f5c0>]], dtype=object)"
      ]
     },
     "execution_count": 13,
     "metadata": {},
     "output_type": "execute_result"
    },
    {
     "data": {
      "image/png": "[encoded data removed]",
      "text/plain": [
       "<matplotlib.figure.Figure at 0x7f01d9916f98>"
      ]
     },
     "metadata": {},
     "output_type": "display_data"
    }
   ],
   "source": [
    "X[[col for col in X.columns if 'count' in col]].hist();"
   ]
  },
  {
   "cell_type": "markdown",
   "metadata": {},
   "source": [
    "Проведём сначала решётчатый поиск на градиентном бустинге для определения оптимальных параметров. "
   ]
  },
  {
   "cell_type": "code",
   "execution_count": 6,
   "metadata": {},
   "outputs": [
    {
     "name": "stdout",
     "output_type": "stream",
     "text": [
      "('learning_rate', [0.2, 0.25, 0.3, 0.35, 0.4, 0.45, 0.5])\n",
      "('max_depth', [2, 3, 4])\n"
     ]
    }
   ],
   "source": [
    "params = {\n",
    "         'learning_rate': [i/20 for i in range(4, 11)],\n",
    "         'max_depth':[i for i in range(2, 5)]}\n",
    "print(*params.items(), sep='\\n')\n",
    "\n",
    "X_train, X_test, Y_train, Y_test = train_test_split(\n",
    "    X, Y, test_size = 0.3,\n",
    "    random_state = 241 )\n",
    "\n",
    "cv = KFold(n_splits=5, shuffle=True, random_state=241)\n",
    "scorer = make_scorer(roc_auc_score)\n",
    "#'n_estimators':[10*i for i in range(1, 6)],"
   ]
  },
  {
   "cell_type": "code",
   "execution_count": null,
   "metadata": {},
   "outputs": [],
   "source": []
  },
  {
   "cell_type": "markdown",
   "metadata": {},
   "source": [
    "grid = GridSearchCV(GradientBoostingClassifier(random_state=241),\n",
    "                    params, cv=cv, n_jobs=-1, scoring=scorer, verbose=True)\n",
    "grid.fit(X_train, Y_train)"
   ]
  },
  {
   "cell_type": "markdown",
   "metadata": {},
   "source": [
    "Проведём кросс-валидацию на полной выборке с наилучшими значениями <i>'learning_rate'</i> и <i>'max_depth'</i>, полученными в предыдущем пункте с количеством деревьев равным 30. Измерим время кросс-валидации."
   ]
  },
  {
   "cell_type": "markdown",
   "metadata": {},
   "source": [
    "print(f\"\"\"Наилучшие значения параметров:\n",
    "\"\"\"grid.best_params_"
   ]
  },
  {
   "cell_type": "markdown",
   "metadata": {},
   "source": [
    "clf = GradientBoostingClassifier(\n",
    "    learning_rate=grid.best_params_['learning_rate'],\n",
    "    max_depth=grid.best_params_['max_depth'],\n",
    "    n_estimators=30,\n",
    "    random_state=241, verbose=False )\n",
    "%time crossval_scores = cross_val_score(clf, X, Y, cv=cv, scoring=scorer)\n",
    "for i, cscore in enumerate(crossval_scores):\n",
    "    print('{0}) - {1:.4f}'.format(i, cscore))\n"
   ]
  },
  {
   "cell_type": "markdown",
   "metadata": {},
   "source": [
    "Время кросс-валидации составило  {n_estimators}\n",
    "\n",
    "Для того чтобы ответить"
   ]
  },
  {
   "cell_type": "markdown",
   "metadata": {},
   "source": [
    "n_trees = [i*10 for i in range(3,101)]\n",
    "#plt.figure()\n",
    "roc = []\n",
    "print('_'*10)\n",
    "max_score = 0,0\n",
    "for n in n_trees:\n",
    "    clf = GradientBoostingClassifier(\n",
    "        max_depth=2, n_estimators=n,random_state=241,\n",
    "        learning_rate=0.3, verbose=False).fit(X_train, Y_train)\n",
    "    pred = clf.predict_proba(X_test)[:, 1]\n",
    "    roc_score = roc_auc_score(Y_test, pred)\n",
    "    roc.append(roc_score)\n",
    "    if roc_score > max_score[0]:\n",
    "        max_score = roc_score, n\n",
    "    if n % 100 == 0:\n",
    "        print('#', end='')\n",
    "plt.plot(n_trees, roc, 'b', linewidth=1)\n",
    "print(f\"\"\"\n",
    "Наилучший результат - {max_score[0]:.3f},\n",
    "количество деревьев - {max_score[1]}\"\"\")\n"
   ]
  },
  {
   "cell_type": "markdown",
   "metadata": {},
   "source": [
    "## Подход 2: логистическая регрессия\n",
    "\n",
    "Оцените качество логистической регрессии (sklearn.linear_model.LogisticRegression с L2-регуляризацией) с помощью кросс-валидации по той же схеме, которая использовалась для градиентного бустинга. Подберите при этом лучший параметр регуляризации (C). Какое наилучшее качество у вас получилось? Как оно соотносится с качеством градиентного бустинга? Чем вы можете объяснить эту разницу? Быстрее ли работает логистическая регрессия по сравнению с градиентным бустингом?<br/>\n",
    "Найдём при помощи решетчатого поиска оптимальный параметр С и проведём кросс-валидацию. Для масштабирования на решетчатом поиске воспользуемся конвеером при помощи функции make_pipeline."
   ]
  },
  {
   "cell_type": "code",
   "execution_count": 7,
   "metadata": {},
   "outputs": [
    {
     "name": "stdout",
     "output_type": "stream",
     "text": [
      "Fitting 5 folds for each of 9 candidates, totalling 45 fits\n"
     ]
    },
    {
     "name": "stderr",
     "output_type": "stream",
     "text": [
      "[Parallel(n_jobs=-1)]: Done  45 out of  45 | elapsed:  1.6min finished\n"
     ]
    },
    {
     "name": "stdout",
     "output_type": "stream",
     "text": [
      "CPU times: user 9.71 s, sys: 330 ms, total: 10 s\n",
      "Wall time: 1min 40s\n",
      "0.6529\n"
     ]
    }
   ],
   "source": [
    "pipe = make_pipeline(MinMaxScaler(), LogisticRegression())#\n",
    "param_grid = {'logisticregression__C': [i/2 for i in range(1,10)]}\n",
    "%time grid = GridSearchCV(pipe, param_grid, cv=cv, n_jobs=-1, verbose=True).fit(X_train, Y_train)\n",
    "\n",
    "C = grid.best_params_['logisticregression__C']\n",
    "pipe = make_pipeline(MinMaxScaler(), LogisticRegression(C=C))\n",
    "crossval_scores = cross_val_score(pipe, X, Y, cv=cv, scoring=scorer)\n",
    "print(f'{crossval_scores.mean():.4f}')"
   ]
  },
  {
   "cell_type": "markdown",
   "metadata": {},
   "source": []
  },
  {
   "cell_type": "code",
   "execution_count": 8,
   "metadata": {},
   "outputs": [
    {
     "name": "stdout",
     "output_type": "stream",
     "text": [
      "0.6527\n"
     ]
    }
   ],
   "source": [
    "col = [name for name in Xcsv.columns.values if '_hero' in name] + ['lobby_type']\n",
    "#col.append('lobby_type')\n",
    "Xm = X.drop(col, axis=1)\n",
    "X_train, X_test, Y_train, Y_test = train_test_split(\n",
    "    Xm, Y, test_size = 0.3,\n",
    "    random_state = 241 )\n",
    "pipe = make_pipeline(MinMaxScaler(), LogisticRegression(C=C))\n",
    "crossval_scores = cross_val_score(pipe, Xm, Y, cv=cv, scoring=scorer)\n",
    "print(f'{crossval_scores.mean():.4f}')"
   ]
  },
  {
   "cell_type": "markdown",
   "metadata": {},
   "source": []
  },
  {
   "cell_type": "code",
   "execution_count": 9,
   "metadata": {},
   "outputs": [],
   "source": [
    "heroes = [name for name in  Xcsv.columns.values if '_hero' in name]\n",
    "num_heroes = {float(i): hero for i, hero in enumerate(heroes)}\n",
    "#X['n_first_blood_player1'] = X[num_heroes[X['first_blood_player1']]]\n",
    "#X[num_heroes[X['first_blood_player1']]]\n",
    "X['first_blood_player1'] = X['first_blood_player1'].apply(lambda x: X[num_heroes[x]])\n",
    "X['first_blood_player2'] = X['first_blood_player2'].apply(lambda x: X[num_heroes[x]])\n",
    "X = pd.get_dummies(X, columns=['first_blood_player1', 'first_blood_player2', 'lobby_type'])\n"
   ]
  },
  {
   "cell_type": "code",
   "execution_count": 12,
   "metadata": {},
   "outputs": [
    {
     "data": {
      "text/plain": [
       "match_id\n",
       "0         0\n",
       "1195      0\n",
       "2381      0\n",
       "3555      0\n",
       "4726      0\n",
       "5902      0\n",
       "7091      0\n",
       "8262      0\n",
       "9469      0\n",
       "10652     0\n",
       "11804     0\n",
       "12990     0\n",
       "14164     0\n",
       "15328     0\n",
       "16513     0\n",
       "17692     0\n",
       "18868     0\n",
       "20033     0\n",
       "21193     0\n",
       "22364     0\n",
       "23532     0\n",
       "24710     0\n",
       "25885     0\n",
       "27036     0\n",
       "28199     0\n",
       "29363     0\n",
       "30540     0\n",
       "31734     0\n",
       "32917     0\n",
       "34088     0\n",
       "         ..\n",
       "79978     0\n",
       "81155     0\n",
       "82333     0\n",
       "83503     1\n",
       "84684     0\n",
       "85842     0\n",
       "87007     0\n",
       "88214     0\n",
       "89410     0\n",
       "90577     0\n",
       "91746     0\n",
       "92934     0\n",
       "94103     0\n",
       "95278     0\n",
       "96438     0\n",
       "97614     0\n",
       "98783     0\n",
       "99957     1\n",
       "101167    1\n",
       "102346    0\n",
       "103532    0\n",
       "104702    0\n",
       "105887    0\n",
       "107066    0\n",
       "108240    0\n",
       "109416    0\n",
       "110596    1\n",
       "111775    0\n",
       "112954    0\n",
       "114142    0\n",
       "Name: first_blood_player2_67, Length: 98, dtype: int8"
      ]
     },
     "execution_count": 12,
     "metadata": {},
     "output_type": "execute_result"
    }
   ],
   "source": [
    "X.columns\n",
    "X['first_blood_player2_67'].astype(int8)"
   ]
  },
  {
   "cell_type": "code",
   "execution_count": null,
   "metadata": {},
   "outputs": [],
   "source": [
    "%time XX = to_dummy(X)\n",
    "XX.shape"
   ]
  },
  {
   "cell_type": "code",
   "execution_count": null,
   "metadata": {},
   "outputs": [],
   "source": [
    "\n",
    "\n",
    "\n",
    "X_train, X_test, Y_train, Y_test = train_test_split(\n",
    "    XX, Y, test_size = 0.3,\n",
    "    random_state = 241 )\n",
    "\n",
    "pipe = make_pipeline(MinMaxScaler(), LogisticRegression())#\n",
    "param_grid = {'logisticregression__C': [i/20 for i in range(1,11)]}\n",
    "grid = GridSearchCV(pipe, param_grid, cv=cv, n_jobs=-1, verbose=True)\n",
    "%time grid.fit(X_train, Y_train)\n",
    "grid.best_score_"
   ]
  },
  {
   "cell_type": "markdown",
   "metadata": {},
   "source": []
  },
  {
   "cell_type": "markdown",
   "metadata": {},
   "source": []
  },
  {
   "cell_type": "code",
   "execution_count": null,
   "metadata": {},
   "outputs": [],
   "source": [
    "grid.best_params_\n"
   ]
  },
  {
   "cell_type": "markdown",
   "metadata": {},
   "source": [
    "params = {'n_estimators':[10*i for i in range(3, 10)],\n",
    "         'learning_rate': [i/10 for i in range(2, 11)],\n",
    "         'max_depth':[i for i in range(2, 5)]}\n",
    "grid = GridSearchCV(GradientBoostingClassifier(random_state=241),\n",
    "                    params, cv=cv, n_jobs=-1, scoring=scorer, verbose=True)\n",
    "grid.fit(X_train, Y_train)\n"
   ]
  },
  {
   "cell_type": "markdown",
   "metadata": {},
   "source": [
    "clf = GradientBoostingClassifier(\n",
    "    **grid.best_params_,\n",
    "    random_state=241, verbose=False )\n",
    "%time crossval_scores = cross_val_score(clf, XX, Y, cv=cv, scoring=scorer, n_jobs=-1)\n",
    "crossval_scores"
   ]
  },
  {
   "cell_type": "markdown",
   "metadata": {},
   "source": [
    "grid.best_params_\n"
   ]
  },
  {
   "cell_type": "code",
   "execution_count": null,
   "metadata": {},
   "outputs": [],
   "source": [
    "Xcsv.columns.shape"
   ]
  },
  {
   "cell_type": "code",
   "execution_count": null,
   "metadata": {},
   "outputs": [],
   "source": [
    "Xcsv['first_blood_player1'].min()"
   ]
  },
  {
   "cell_type": "code",
   "execution_count": null,
   "metadata": {},
   "outputs": [],
   "source": [
    "heroes = [name for name in  Xcsv.columns.values if '_hero' in name]\n",
    "num_heroes = {float(i): hero for i, hero in enumerate(heroes)}"
   ]
  },
  {
   "cell_type": "code",
   "execution_count": null,
   "metadata": {},
   "outputs": [],
   "source": [
    "logreg = LogisticRegression()"
   ]
  },
  {
   "cell_type": "code",
   "execution_count": 13,
   "metadata": {},
   "outputs": [
    {
     "data": {
      "text/plain": [
       "(98, 121)"
      ]
     },
     "execution_count": 13,
     "metadata": {},
     "output_type": "execute_result"
    }
   ],
   "source": [
    "X.shape"
   ]
  },
  {
   "cell_type": "code",
   "execution_count": 14,
   "metadata": {},
   "outputs": [
    {
     "data": {
      "text/plain": [
       "(98,)"
      ]
     },
     "execution_count": 14,
     "metadata": {},
     "output_type": "execute_result"
    }
   ],
   "source": [
    "Y.shape"
   ]
  },
  {
   "cell_type": "code",
   "execution_count": 30,
   "metadata": {},
   "outputs": [],
   "source": [
    "df = pd.DataFrame({'A':[1,2,3], 'B':[1.0,2.0,3.0]})\n",
    "ar = df.values"
   ]
  },
  {
   "cell_type": "code",
   "execution_count": 17,
   "metadata": {},
   "outputs": [],
   "source": [
    "dd = {'A':[1,2,3], 'B':[1.0,2.0,3.0]}"
   ]
  },
  {
   "cell_type": "code",
   "execution_count": 33,
   "metadata": {},
   "outputs": [],
   "source": [
    "df = pd.DataFrame({'A':[1,2,3], 'B':[1.0,2.0,3.0], 'C':['aaa', 'bbbb', 'ccc']})\n",
    "ar = df.values"
   ]
  },
  {
   "cell_type": "code",
   "execution_count": 32,
   "metadata": {},
   "outputs": [
    {
     "data": {
      "text/plain": [
       "numpy.float64"
      ]
     },
     "execution_count": 32,
     "metadata": {},
     "output_type": "execute_result"
    }
   ],
   "source": [
    "type(ar[0,0])"
   ]
  },
  {
   "cell_type": "code",
   "execution_count": 34,
   "metadata": {},
   "outputs": [
    {
     "data": {
      "text/plain": [
       "array([[1, 1.0, 'aaa'],\n",
       "       [2, 2.0, 'bbbb'],\n",
       "       [3, 3.0, 'ccc']], dtype=object)"
      ]
     },
     "execution_count": 34,
     "metadata": {},
     "output_type": "execute_result"
    }
   ],
   "source": [
    "ar"
   ]
  },
  {
   "cell_type": "code",
   "execution_count": null,
   "metadata": {},
   "outputs": [],
   "source": []
  }
 ],
 "metadata": {
  "kernelspec": {
   "display_name": "Python 3",
   "language": "python",
   "name": "python3"
  },
  "language_info": {
   "codemirror_mode": {
    "name": "ipython",
    "version": 3
   },
   "file_extension": ".py",
   "mimetype": "text/x-python",
   "name": "python",
   "nbconvert_exporter": "python",
   "pygments_lexer": "ipython3",
   "version": "3.6.4"
  }
 },
 "nbformat": 4,
 "nbformat_minor": 2
}
