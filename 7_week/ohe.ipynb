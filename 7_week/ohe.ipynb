{
 "cells": [
  {
   "cell_type": "code",
   "execution_count": 1,
   "metadata": {},
   "outputs": [],
   "source": [
    "import pandas as pd\n",
    "import numpy as np\n",
    "from pandas import DataFrame\n",
    "from numpy import array, zeros\n",
    "from sklearn.preprocessing import MinMaxScaler, StandardScaler, OneHotEncoder\n",
    "import warnings\n",
    "import matplotlib.pyplot as plt\n",
    "from math import exp\n",
    "import time\n",
    "import datetime\n",
    "%matplotlib  inline\n",
    "warnings.simplefilter('ignore')"
   ]
  },
  {
   "cell_type": "markdown",
   "metadata": {},
   "source": [
    "df = pd.DataFrame(data={\n",
    "    'b': list(range(5)),\n",
    "    'a': list(range(4,9))\n",
    "})"
   ]
  },
  {
   "cell_type": "code",
   "execution_count": 2,
   "metadata": {},
   "outputs": [],
   "source": [
    "ohe = OneHotEncoder(sparse=True)\n"
   ]
  },
  {
   "cell_type": "code",
   "execution_count": 3,
   "metadata": {},
   "outputs": [],
   "source": [
    "X = pd.read_csv('features.csv', index_col='match_id')\n",
    "X_test = pd.read_csv('features_test.csv', index_col='match_id')"
   ]
  },
  {
   "cell_type": "code",
   "execution_count": 5,
   "metadata": {},
   "outputs": [],
   "source": [
    "heroes_col = [col for col in X.columns if '_hero' in col]"
   ]
  },
  {
   "cell_type": "code",
   "execution_count": 6,
   "metadata": {},
   "outputs": [],
   "source": [
    "heroes = X[heroes_col].values\n",
    "heroes_t = X_test[heroes_col].values"
   ]
  },
  {
   "cell_type": "code",
   "execution_count": 7,
   "metadata": {},
   "outputs": [
    {
     "name": "stdout",
     "output_type": "stream",
     "text": [
      "67\n",
      "65\n"
     ]
    }
   ],
   "source": [
    "print(heroes[1,2])\n",
    "print(heroes_t[1,2])"
   ]
  },
  {
   "cell_type": "code",
   "execution_count": 8,
   "metadata": {},
   "outputs": [
    {
     "name": "stdout",
     "output_type": "stream",
     "text": [
      "0 not in heroes\n",
      "0 not in heroes test\n",
      "24 not in heroes\n",
      "24 not in heroes test\n",
      "107 not in heroes\n",
      "107 not in heroes test\n",
      "108 not in heroes\n",
      "108 not in heroes test\n",
      "111 not in heroes\n",
      "111 not in heroes test\n"
     ]
    }
   ],
   "source": [
    "for i in range(113):\n",
    "    if i not in heroes:\n",
    "        print(f'{i} not in heroes')\n",
    "    if i not in heroes_t:\n",
    "        print(f'{i} not in heroes test')"
   ]
  },
  {
   "cell_type": "code",
   "execution_count": null,
   "metadata": {},
   "outputs": [],
   "source": []
  }
 ],
 "metadata": {
  "kernelspec": {
   "display_name": "Python 3",
   "language": "python",
   "name": "python3"
  },
  "language_info": {
   "codemirror_mode": {
    "name": "ipython",
    "version": 3
   },
   "file_extension": ".py",
   "mimetype": "text/x-python",
   "name": "python",
   "nbconvert_exporter": "python",
   "pygments_lexer": "ipython3",
   "version": "3.6.6"
  }
 },
 "nbformat": 4,
 "nbformat_minor": 2
}
