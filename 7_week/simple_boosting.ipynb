{
 "cells": [
  {
   "cell_type": "code",
   "execution_count": 64,
   "metadata": {},
   "outputs": [],
   "source": [
    "import pandas as pd\n",
    "from numpy import array\n",
    "from sklearn.ensemble import GradientBoostingClassifier\n",
    "from sklearn.model_selection import KFold,  GridSearchCV\n",
    "from sklearn.metrics import make_scorer, roc_auc_score\n",
    "from sklearn.model_selection import train_test_split\n",
    "import warnings\n",
    "warnings.simplefilter('ignore')"
   ]
  },
  {
   "cell_type": "code",
   "execution_count": 75,
   "metadata": {},
   "outputs": [],
   "source": [
    "Xcsv = pd.read_csv('out_featers.csv', index_col='match_id')"
   ]
  },
  {
   "cell_type": "code",
   "execution_count": 76,
   "metadata": {},
   "outputs": [],
   "source": [
    "n_samples = 1000#Xcsv.shape[0]#\n",
    "X = Xcsv[0:n_samples]\n",
    "X['first_blood_player1'].fillna(X['first_blood_player1'].median(), inplace=True)\n",
    "X['first_blood_player2'].fillna(X['first_blood_player2'].median(), inplace=True)\n",
    "X.fillna(300, inplace=True)\n",
    "Y = X['radiant_win']\n",
    "X.drop(['radiant_win',\n",
    "        'duration',\n",
    "        'tower_status_radiant', \n",
    "        'tower_status_dire', \n",
    "        'barracks_status_dire', \n",
    "        'barracks_status_radiant', \n",
    "        'start_time'],\n",
    "       axis=1, inplace=True)\n"
   ]
  },
  {
   "cell_type": "code",
   "execution_count": 77,
   "metadata": {},
   "outputs": [],
   "source": [
    "X_train, X_test, Y_train, Y_test = train_test_split(\n",
    "    X, Y, test_size = 0.3,\n",
    "    random_state = 241 )"
   ]
  },
  {
   "cell_type": "code",
   "execution_count": 78,
   "metadata": {},
   "outputs": [
    {
     "name": "stdout",
     "output_type": "stream",
     "text": [
      "Fitting 5 folds for each of 4 candidates, totalling 20 fits\n"
     ]
    },
    {
     "name": "stderr",
     "output_type": "stream",
     "text": [
      "[Parallel(n_jobs=-1)]: Done  20 out of  20 | elapsed:    6.5s finished\n"
     ]
    },
    {
     "name": "stdout",
     "output_type": "stream",
     "text": [
      "Wall time: 7.41 s\n"
     ]
    },
    {
     "data": {
      "text/plain": [
       "GridSearchCV(cv=KFold(n_splits=5, random_state=241, shuffle=True),\n",
       "       error_score='raise',\n",
       "       estimator=GradientBoostingClassifier(criterion='friedman_mse', init=None,\n",
       "              learning_rate=0.1, loss='deviance', max_depth=3,\n",
       "              max_features=None, max_leaf_nodes=None,\n",
       "              min_impurity_decrease=0.0, min_impurity_split=None,\n",
       "              min_samples_leaf=1, min_samples_split=2,\n",
       "              min_weight_fraction_leaf=0.0, n_estimators=100,\n",
       "              presort='auto', random_state=241, subsample=1.0, verbose=0,\n",
       "              warm_start=False),\n",
       "       fit_params=None, iid=True, n_jobs=-1,\n",
       "       param_grid={'n_estimators': [30], 'learning_rate': [0.25], 'max_depth': [4, 5, 6, 7]},\n",
       "       pre_dispatch='2*n_jobs', refit=True, return_train_score='warn',\n",
       "       scoring=make_scorer(roc_auc_score), verbose=True)"
      ]
     },
     "execution_count": 78,
     "metadata": {},
     "output_type": "execute_result"
    }
   ],
   "source": [
    "cv = KFold(n_splits=5, shuffle=True, random_state=241)\n",
    "scorer = make_scorer(roc_auc_score)\n",
    "params = {'n_estimators':[10*i for i in range(1, 4)],\n",
    "         'learning_rate': [i/20 for i in range(4, 9)],\n",
    "         'max_depth':[i for i in range(2, 5)]}\n",
    "params = {'n_estimators':[30],\n",
    "         'learning_rate': [0.25],\n",
    "         'max_depth':[i for i in range(4, 8)]}\n",
    "grid = GridSearchCV(GradientBoostingClassifier(random_state=241),\n",
    "                    params, cv=cv, n_jobs=-1, scoring=scorer, verbose=True)\n",
    "%time grid.fit(X_train, Y_train)"
   ]
  },
  {
   "cell_type": "code",
   "execution_count": 79,
   "metadata": {},
   "outputs": [
    {
     "name": "stdout",
     "output_type": "stream",
     "text": [
      "Wall time: 622 ms\n",
      "learning_rate : 0.25\n",
      "max_depth : 7\n",
      "n_estimators : 30\n",
      "score = 0.6366666666666667\n",
      "ROC-score = 0.672197689459833\n"
     ]
    }
   ],
   "source": [
    "%time clf = GradientBoostingClassifier(**grid.best_params_, random_state=241, verbose=False ).fit(X_train, Y_train)\n",
    "score = clf.score(X_test, Y_test)\n",
    "pred = clf.predict_proba(X_test)[:, 1]\n",
    "roc_score = roc_auc_score(Y_test, pred)\n",
    "for key in grid.best_params_:\n",
    "    print(f'{key} : {grid.best_params_[key]}')\n",
    "print(f'score = {score}')\n",
    "print(f'ROC-score = {roc_score}')"
   ]
  },
  {
   "cell_type": "markdown",
   "metadata": {},
   "source": [
    "clf_params = {'n_estimators':500, 'learning_rate': 0.25, 'max_depth':2}\n",
    "%time clf = GradientBoostingClassifier(**clf_params, random_state=241, verbose=False ).fit(X_train, Y_train)\n",
    "score = clf.score(X_test, Y_test)\n",
    "pred = clf.predict_proba(X_test)[:, 1]\n",
    "roc_score = roc_auc_score(Y_test, pred)\n",
    "for key in grid.best_params_:\n",
    "    print(f'{key} : {grid.best_params_[key]}')\n",
    "print(f'score = {score}')\n",
    "print(f'ROC-score = {roc_score}')"
   ]
  },
  {
   "cell_type": "markdown",
   "metadata": {},
   "source": [
    "clf = GradientBoostingClassifier(**clf_params, random_state=241, verbose=False ).fit(X, Y)"
   ]
  },
  {
   "cell_type": "markdown",
   "metadata": {},
   "source": [
    "XT = pd.read_csv('test_featers.csv', index_col='match_id')\n",
    "XT.drop(['start_time'], axis=1, inplace=True)\n",
    "XT.fillna(3000, inplace=True) "
   ]
  },
  {
   "cell_type": "markdown",
   "metadata": {},
   "source": [
    "pred = clf.predict(XT)\n",
    "with open('kaggle_out.csv', 'w') as kaggle:\n",
    "    pass\n",
    "with open('kaggle_out.csv', 'a') as kaggle:\n",
    "    kaggle.writelines('match_id,radiant_win')\n",
    "    for row in XT.iterrows():\n",
    "        kaggle.writelines('\\n')\n",
    "        kaggle.writelines(','.join([str(row[0]), str(clf.predict_proba(array(row[1]).reshape(1, 101))[0][1]),]))"
   ]
  },
  {
   "cell_type": "code",
   "execution_count": 11,
   "metadata": {},
   "outputs": [
    {
     "data": {
      "text/plain": [
       "{'learning_rate': [0.2, 0.25, 0.3, 0.35, 0.4],\n",
       " 'max_depth': [2, 3, 4],\n",
       " 'n_estimators': [10, 20, 30]}"
      ]
     },
     "execution_count": 11,
     "metadata": {},
     "output_type": "execute_result"
    }
   ],
   "source": [
    "params = {'n_estimators':[10*i for i in range(1, 4)],\n",
    "         'learning_rate': [i/20 for i in range(4, 9)],\n",
    "         'max_depth':[i for i in range(2, 5)]}\n",
    "params\n"
   ]
  },
  {
   "cell_type": "code",
   "execution_count": 12,
   "metadata": {},
   "outputs": [
    {
     "ename": "NameError",
     "evalue": "name 'Xh' is not defined",
     "output_type": "error",
     "traceback": [
      "\u001b[1;31m---------------------------------------------------------------------------\u001b[0m",
      "\u001b[1;31mNameError\u001b[0m                                 Traceback (most recent call last)",
      "\u001b[1;32m<ipython-input-12-6a4d7c9e743b>\u001b[0m in \u001b[0;36m<module>\u001b[1;34m()\u001b[0m\n\u001b[1;32m----> 1\u001b[1;33m \u001b[0mXh\u001b[0m\u001b[1;33m.\u001b[0m\u001b[0mshape\u001b[0m\u001b[1;33m\u001b[0m\u001b[0m\n\u001b[0m",
      "\u001b[1;31mNameError\u001b[0m: name 'Xh' is not defined"
     ]
    }
   ],
   "source": [
    "Xh.shape"
   ]
  },
  {
   "cell_type": "code",
   "execution_count": null,
   "metadata": {},
   "outputs": [],
   "source": []
  }
 ],
 "metadata": {
  "kernelspec": {
   "display_name": "Python 3",
   "language": "python",
   "name": "python3"
  },
  "language_info": {
   "codemirror_mode": {
    "name": "ipython",
    "version": 3
   },
   "file_extension": ".py",
   "mimetype": "text/x-python",
   "name": "python",
   "nbconvert_exporter": "python",
   "pygments_lexer": "ipython3",
   "version": "3.6.4"
  }
 },
 "nbformat": 4,
 "nbformat_minor": 2
}
