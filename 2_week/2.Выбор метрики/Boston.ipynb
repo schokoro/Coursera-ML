{
 "cells": [
  {
   "cell_type": "code",
   "execution_count": 1,
   "metadata": {
    "collapsed": true
   },
   "outputs": [],
   "source": [
    "import pandas as pd\n",
    "from pandas import DataFrame, Series\n",
    "import numpy as np\n",
    "from sklearn.neighbors import KNeighborsRegressor\n",
    "from sklearn.model_selection import KFold, cross_val_score\n",
    "from sklearn.preprocessing import scale\n",
    "from sklearn.datasets import load_boston"
   ]
  },
  {
   "cell_type": "code",
   "execution_count": 2,
   "metadata": {
    "collapsed": true
   },
   "outputs": [],
   "source": [
    "data = load_boston()\n",
    "inp_data_scale = scale(data.data)\n",
    "kfold = KFold(n_splits=5, shuffle=True, random_state=42)\n",
    "p_metric = np.linspace(1, 10, 200)"
   ]
  },
  {
   "cell_type": "code",
   "execution_count": 4,
   "metadata": {},
   "outputs": [
    {
     "name": "stdout",
     "output_type": "stream",
     "text": [
      "9.50251256281 -21.1092430093\n"
     ]
    }
   ],
   "source": [
    "res = 1000000.0\n",
    "p_res = 0\n",
    "for  p in p_metric:\n",
    "    regr = KNeighborsRegressor(n_neighbors=5, weights='distance', metric = 'minkowski', p=p)\n",
    "    score = cross_val_score(regr, inp_data_scale, data.target, cv=kfold, scoring='neg_mean_squared_error').mean()\n",
    "    #print(score)\n",
    "    if score < res:\n",
    "        res = score\n",
    "        p_res = p\n",
    "print(p_res, res)\n",
    "    #print(score, score.mean())"
   ]
  },
  {
   "cell_type": "code",
   "execution_count": null,
   "metadata": {
    "collapsed": true
   },
   "outputs": [],
   "source": []
  }
 ],
 "metadata": {
  "kernelspec": {
   "display_name": "Python 3",
   "language": "python",
   "name": "python3"
  },
  "language_info": {
   "codemirror_mode": {
    "name": "ipython",
    "version": 3
   },
   "file_extension": ".py",
   "mimetype": "text/x-python",
   "name": "python",
   "nbconvert_exporter": "python",
   "pygments_lexer": "ipython3",
   "version": "3.6.3"
  }
 },
 "nbformat": 4,
 "nbformat_minor": 2
}
